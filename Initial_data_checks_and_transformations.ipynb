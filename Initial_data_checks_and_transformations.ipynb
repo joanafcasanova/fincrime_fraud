{
 "cells": [
  {
   "cell_type": "code",
   "execution_count": 1,
   "metadata": {
    "ExecuteTime": {
     "end_time": "2021-09-05T18:32:34.869177Z",
     "start_time": "2021-09-05T18:32:33.660934Z"
    }
   },
   "outputs": [],
   "source": [
    "import pandas as pd\n",
    "import numpy as np"
   ]
  },
  {
   "cell_type": "code",
   "execution_count": 2,
   "metadata": {
    "ExecuteTime": {
     "end_time": "2021-09-05T18:32:34.885853Z",
     "start_time": "2021-09-05T18:32:34.876123Z"
    }
   },
   "outputs": [],
   "source": [
    "import warnings\n",
    "warnings.filterwarnings('ignore')"
   ]
  },
  {
   "cell_type": "markdown",
   "metadata": {},
   "source": [
    "# Users.csv"
   ]
  },
  {
   "cell_type": "code",
   "execution_count": 3,
   "metadata": {
    "ExecuteTime": {
     "end_time": "2021-09-05T18:32:35.437841Z",
     "start_time": "2021-09-05T18:32:34.892505Z"
    },
    "scrolled": true
   },
   "outputs": [
    {
     "data": {
      "text/html": [
       "<div>\n",
       "<style scoped>\n",
       "    .dataframe tbody tr th:only-of-type {\n",
       "        vertical-align: middle;\n",
       "    }\n",
       "\n",
       "    .dataframe tbody tr th {\n",
       "        vertical-align: top;\n",
       "    }\n",
       "\n",
       "    .dataframe thead th {\n",
       "        text-align: right;\n",
       "    }\n",
       "</style>\n",
       "<table border=\"1\" class=\"dataframe\">\n",
       "  <thead>\n",
       "    <tr style=\"text-align: right;\">\n",
       "      <th></th>\n",
       "      <th>ID</th>\n",
       "      <th>CREATED_DATE</th>\n",
       "      <th>COUNTRY</th>\n",
       "      <th>BIRTH_DATE</th>\n",
       "    </tr>\n",
       "  </thead>\n",
       "  <tbody>\n",
       "    <tr>\n",
       "      <th>0</th>\n",
       "      <td>46f44852-aaa5-4634-aadd-8cc4eefef3c8</td>\n",
       "      <td>2019-04-22 18:30:30.735</td>\n",
       "      <td>BG</td>\n",
       "      <td>1984-10-22</td>\n",
       "    </tr>\n",
       "    <tr>\n",
       "      <th>1</th>\n",
       "      <td>f17dd8af-2edb-4415-a950-d90a1b5e3e5b</td>\n",
       "      <td>2019-04-15 02:44:24.94</td>\n",
       "      <td>IE</td>\n",
       "      <td>1984-11-04</td>\n",
       "    </tr>\n",
       "    <tr>\n",
       "      <th>2</th>\n",
       "      <td>55e6fcef-f573-4c54-8b27-537adc417e19</td>\n",
       "      <td>2019-04-03 16:10:44.53</td>\n",
       "      <td>PL</td>\n",
       "      <td>1977-09-08</td>\n",
       "    </tr>\n",
       "    <tr>\n",
       "      <th>3</th>\n",
       "      <td>dc03019c-9cf1-4081-a70a-6922a44fe393</td>\n",
       "      <td>2019-04-13 14:16:11.928</td>\n",
       "      <td>FR</td>\n",
       "      <td>1992-09-06</td>\n",
       "    </tr>\n",
       "    <tr>\n",
       "      <th>4</th>\n",
       "      <td>bcd967e5-c273-45a7-a7f5-e7c9e3b19b7e</td>\n",
       "      <td>2019-04-03 15:46:43.997</td>\n",
       "      <td>IE</td>\n",
       "      <td>1993-10-22</td>\n",
       "    </tr>\n",
       "  </tbody>\n",
       "</table>\n",
       "</div>"
      ],
      "text/plain": [
       "                                     ID             CREATED_DATE COUNTRY  \\\n",
       "0  46f44852-aaa5-4634-aadd-8cc4eefef3c8  2019-04-22 18:30:30.735      BG   \n",
       "1  f17dd8af-2edb-4415-a950-d90a1b5e3e5b   2019-04-15 02:44:24.94      IE   \n",
       "2  55e6fcef-f573-4c54-8b27-537adc417e19   2019-04-03 16:10:44.53      PL   \n",
       "3  dc03019c-9cf1-4081-a70a-6922a44fe393  2019-04-13 14:16:11.928      FR   \n",
       "4  bcd967e5-c273-45a7-a7f5-e7c9e3b19b7e  2019-04-03 15:46:43.997      IE   \n",
       "\n",
       "   BIRTH_DATE  \n",
       "0  1984-10-22  \n",
       "1  1984-11-04  \n",
       "2  1977-09-08  \n",
       "3  1992-09-06  \n",
       "4  1993-10-22  "
      ]
     },
     "execution_count": 3,
     "metadata": {},
     "output_type": "execute_result"
    }
   ],
   "source": [
    "users=pd.read_csv(r'c:\\Users\\hp\\Documents\\Data_science\\Repos\\Revolut_assignment\\Data\\users.csv')\n",
    "users.head()"
   ]
  },
  {
   "cell_type": "code",
   "execution_count": 4,
   "metadata": {
    "ExecuteTime": {
     "end_time": "2021-09-05T18:32:35.481517Z",
     "start_time": "2021-09-05T18:32:35.442036Z"
    },
    "scrolled": true
   },
   "outputs": [
    {
     "data": {
      "text/html": [
       "<div>\n",
       "<style scoped>\n",
       "    .dataframe tbody tr th:only-of-type {\n",
       "        vertical-align: middle;\n",
       "    }\n",
       "\n",
       "    .dataframe tbody tr th {\n",
       "        vertical-align: top;\n",
       "    }\n",
       "\n",
       "    .dataframe thead th {\n",
       "        text-align: right;\n",
       "    }\n",
       "</style>\n",
       "<table border=\"1\" class=\"dataframe\">\n",
       "  <thead>\n",
       "    <tr style=\"text-align: right;\">\n",
       "      <th></th>\n",
       "      <th>ID</th>\n",
       "      <th>TARGET</th>\n",
       "    </tr>\n",
       "  </thead>\n",
       "  <tbody>\n",
       "    <tr>\n",
       "      <th>0</th>\n",
       "      <td>2c831c76-2d62-41ce-a240-e12f505d389a</td>\n",
       "      <td>1</td>\n",
       "    </tr>\n",
       "    <tr>\n",
       "      <th>1</th>\n",
       "      <td>ce2a1146-831e-49a7-aa5f-a3045a2892af</td>\n",
       "      <td>1</td>\n",
       "    </tr>\n",
       "    <tr>\n",
       "      <th>2</th>\n",
       "      <td>447abe11-f89a-4819-bea2-e7978b1cf560</td>\n",
       "      <td>1</td>\n",
       "    </tr>\n",
       "    <tr>\n",
       "      <th>3</th>\n",
       "      <td>3a186446-c2fb-474b-a8d8-db362643b3d2</td>\n",
       "      <td>1</td>\n",
       "    </tr>\n",
       "    <tr>\n",
       "      <th>4</th>\n",
       "      <td>73fa6100-f6f0-4e22-b247-714f4743c125</td>\n",
       "      <td>1</td>\n",
       "    </tr>\n",
       "  </tbody>\n",
       "</table>\n",
       "</div>"
      ],
      "text/plain": [
       "                                     ID  TARGET\n",
       "0  2c831c76-2d62-41ce-a240-e12f505d389a       1\n",
       "1  ce2a1146-831e-49a7-aa5f-a3045a2892af       1\n",
       "2  447abe11-f89a-4819-bea2-e7978b1cf560       1\n",
       "3  3a186446-c2fb-474b-a8d8-db362643b3d2       1\n",
       "4  73fa6100-f6f0-4e22-b247-714f4743c125       1"
      ]
     },
     "execution_count": 4,
     "metadata": {},
     "output_type": "execute_result"
    }
   ],
   "source": [
    "fraudsters=pd.read_csv(r'c:\\Users\\hp\\Documents\\Data_science\\Repos\\Revolut_assignment\\Data\\fraudsters.csv').rename(columns={'USER_ID':'ID'})\n",
    "fraudsters['TARGET']=1\n",
    "fraudsters.head()"
   ]
  },
  {
   "cell_type": "code",
   "execution_count": 5,
   "metadata": {
    "ExecuteTime": {
     "end_time": "2021-09-05T18:32:35.743559Z",
     "start_time": "2021-09-05T18:32:35.483602Z"
    }
   },
   "outputs": [
    {
     "data": {
      "text/html": [
       "<div>\n",
       "<style scoped>\n",
       "    .dataframe tbody tr th:only-of-type {\n",
       "        vertical-align: middle;\n",
       "    }\n",
       "\n",
       "    .dataframe tbody tr th {\n",
       "        vertical-align: top;\n",
       "    }\n",
       "\n",
       "    .dataframe thead th {\n",
       "        text-align: right;\n",
       "    }\n",
       "</style>\n",
       "<table border=\"1\" class=\"dataframe\">\n",
       "  <thead>\n",
       "    <tr style=\"text-align: right;\">\n",
       "      <th></th>\n",
       "      <th>ID</th>\n",
       "      <th>CREATED_DATE</th>\n",
       "      <th>COUNTRY</th>\n",
       "      <th>BIRTH_DATE</th>\n",
       "      <th>TARGET</th>\n",
       "    </tr>\n",
       "  </thead>\n",
       "  <tbody>\n",
       "    <tr>\n",
       "      <th>0</th>\n",
       "      <td>46f44852-aaa5-4634-aadd-8cc4eefef3c8</td>\n",
       "      <td>2019-04-22 18:30:30.735</td>\n",
       "      <td>BG</td>\n",
       "      <td>1984-10-22</td>\n",
       "      <td>0.0</td>\n",
       "    </tr>\n",
       "    <tr>\n",
       "      <th>1</th>\n",
       "      <td>f17dd8af-2edb-4415-a950-d90a1b5e3e5b</td>\n",
       "      <td>2019-04-15 02:44:24.94</td>\n",
       "      <td>IE</td>\n",
       "      <td>1984-11-04</td>\n",
       "      <td>0.0</td>\n",
       "    </tr>\n",
       "    <tr>\n",
       "      <th>2</th>\n",
       "      <td>55e6fcef-f573-4c54-8b27-537adc417e19</td>\n",
       "      <td>2019-04-03 16:10:44.53</td>\n",
       "      <td>PL</td>\n",
       "      <td>1977-09-08</td>\n",
       "      <td>0.0</td>\n",
       "    </tr>\n",
       "    <tr>\n",
       "      <th>3</th>\n",
       "      <td>dc03019c-9cf1-4081-a70a-6922a44fe393</td>\n",
       "      <td>2019-04-13 14:16:11.928</td>\n",
       "      <td>FR</td>\n",
       "      <td>1992-09-06</td>\n",
       "      <td>0.0</td>\n",
       "    </tr>\n",
       "    <tr>\n",
       "      <th>4</th>\n",
       "      <td>bcd967e5-c273-45a7-a7f5-e7c9e3b19b7e</td>\n",
       "      <td>2019-04-03 15:46:43.997</td>\n",
       "      <td>IE</td>\n",
       "      <td>1993-10-22</td>\n",
       "      <td>0.0</td>\n",
       "    </tr>\n",
       "  </tbody>\n",
       "</table>\n",
       "</div>"
      ],
      "text/plain": [
       "                                     ID             CREATED_DATE COUNTRY  \\\n",
       "0  46f44852-aaa5-4634-aadd-8cc4eefef3c8  2019-04-22 18:30:30.735      BG   \n",
       "1  f17dd8af-2edb-4415-a950-d90a1b5e3e5b   2019-04-15 02:44:24.94      IE   \n",
       "2  55e6fcef-f573-4c54-8b27-537adc417e19   2019-04-03 16:10:44.53      PL   \n",
       "3  dc03019c-9cf1-4081-a70a-6922a44fe393  2019-04-13 14:16:11.928      FR   \n",
       "4  bcd967e5-c273-45a7-a7f5-e7c9e3b19b7e  2019-04-03 15:46:43.997      IE   \n",
       "\n",
       "   BIRTH_DATE  TARGET  \n",
       "0  1984-10-22     0.0  \n",
       "1  1984-11-04     0.0  \n",
       "2  1977-09-08     0.0  \n",
       "3  1992-09-06     0.0  \n",
       "4  1993-10-22     0.0  "
      ]
     },
     "execution_count": 5,
     "metadata": {},
     "output_type": "execute_result"
    }
   ],
   "source": [
    "users=users.merge(fraudsters, on='ID', how='left')\n",
    "users['TARGET']=users['TARGET'].fillna(0)\n",
    "users.head()"
   ]
  },
  {
   "cell_type": "code",
   "execution_count": 6,
   "metadata": {
    "ExecuteTime": {
     "end_time": "2021-09-05T18:32:35.767908Z",
     "start_time": "2021-09-05T18:32:35.748590Z"
    },
    "scrolled": true
   },
   "outputs": [
    {
     "data": {
      "text/plain": [
       "(200250, 5)"
      ]
     },
     "execution_count": 6,
     "metadata": {},
     "output_type": "execute_result"
    }
   ],
   "source": [
    "users.shape"
   ]
  },
  {
   "cell_type": "markdown",
   "metadata": {},
   "source": [
    "## Created date"
   ]
  },
  {
   "cell_type": "code",
   "execution_count": 7,
   "metadata": {
    "ExecuteTime": {
     "end_time": "2021-09-05T18:32:36.042502Z",
     "start_time": "2021-09-05T18:32:35.772190Z"
    }
   },
   "outputs": [
    {
     "name": "stdout",
     "output_type": "stream",
     "text": [
      "2019-02-02\n",
      "2019-05-04\n"
     ]
    }
   ],
   "source": [
    "print(users['CREATED_DATE'].apply(lambda x: x[0:10]).min())\n",
    "print(users['CREATED_DATE'].apply(lambda x: x[0:10]).max())"
   ]
  },
  {
   "cell_type": "code",
   "execution_count": 8,
   "metadata": {
    "ExecuteTime": {
     "end_time": "2021-09-05T18:32:36.870688Z",
     "start_time": "2021-09-05T18:32:36.049563Z"
    }
   },
   "outputs": [
    {
     "data": {
      "text/plain": [
       "<matplotlib.axes._subplots.AxesSubplot at 0x16eb5ab25c0>"
      ]
     },
     "execution_count": 8,
     "metadata": {},
     "output_type": "execute_result"
    }
   ],
   "source": [
    "users['CREATED_DATE'].apply(lambda x: int(x[0:10].replace('-',''))).hist(bins=92)"
   ]
  },
  {
   "cell_type": "code",
   "execution_count": 9,
   "metadata": {
    "ExecuteTime": {
     "end_time": "2021-09-05T18:32:37.322395Z",
     "start_time": "2021-09-05T18:32:36.878925Z"
    }
   },
   "outputs": [
    {
     "data": {
      "text/plain": [
       "<matplotlib.axes._subplots.AxesSubplot at 0x16eb5f545f8>"
      ]
     },
     "execution_count": 9,
     "metadata": {},
     "output_type": "execute_result"
    },
    {
     "data": {
      "image/png": "[encoded data removed]",
      "text/plain": [
       "<Figure size 432x288 with 1 Axes>"
      ]
     },
     "metadata": {
      "needs_background": "light"
     },
     "output_type": "display_data"
    }
   ],
   "source": [
    "users[users['TARGET']==1]['CREATED_DATE'].apply(lambda x: int(x[0:10].replace('-',''))).hist(bins=92)"
   ]
  },
  {
   "cell_type": "code",
   "execution_count": 10,
   "metadata": {
    "ExecuteTime": {
     "end_time": "2021-09-05T18:32:37.460400Z",
     "start_time": "2021-09-05T18:32:37.326219Z"
    },
    "scrolled": true
   },
   "outputs": [
    {
     "data": {
      "text/plain": [
       "2019-04-27    8352\n",
       "2019-05-02    7343\n",
       "2019-04-28    7125\n",
       "2019-04-13    6665\n",
       "2019-04-12    6504\n",
       "2019-04-25    6457\n",
       "2019-05-01    6441\n",
       "2019-04-04    6440\n",
       "2019-04-26    6435\n",
       "2019-04-06    6361\n",
       "2019-04-05    6325\n",
       "2019-04-18    6321\n",
       "2019-04-29    6318\n",
       "2019-04-19    6242\n",
       "2019-04-07    6160\n",
       "2019-04-21    6029\n",
       "2019-04-14    6022\n",
       "2019-04-17    5979\n",
       "2019-04-24    5927\n",
       "2019-04-03    5898\n",
       "2019-04-20    5872\n",
       "2019-04-08    5709\n",
       "2019-04-10    5699\n",
       "2019-04-30    5589\n",
       "2019-04-22    5274\n",
       "2019-04-15    5174\n",
       "2019-04-11    5156\n",
       "2019-04-09    4863\n",
       "2019-04-23    4829\n",
       "2019-04-16    4716\n",
       "2019-05-03    3808\n",
       "2019-04-01    1109\n",
       "2019-04-02     896\n",
       "2019-03-30     863\n",
       "2019-03-31     861\n",
       "2019-03-29     825\n",
       "2019-03-28     605\n",
       "2019-03-27     487\n",
       "2019-03-25     479\n",
       "2019-03-23     476\n",
       "2019-03-26     426\n",
       "2019-03-24     401\n",
       "2019-03-22     395\n",
       "2019-03-20     337\n",
       "2019-03-21     308\n",
       "2019-03-16     303\n",
       "2019-03-14     291\n",
       "2019-03-17     290\n",
       "2019-03-15     280\n",
       "2019-03-18     262\n",
       "Name: CREATED_DATE, dtype: int64"
      ]
     },
     "execution_count": 10,
     "metadata": {},
     "output_type": "execute_result"
    }
   ],
   "source": [
    "users['CREATED_DATE'].apply(lambda x: x[0:10]).value_counts()[0:50]"
   ]
  },
  {
   "cell_type": "markdown",
   "metadata": {},
   "source": [
    "## Country"
   ]
  },
  {
   "cell_type": "code",
   "execution_count": 11,
   "metadata": {
    "ExecuteTime": {
     "end_time": "2021-09-05T18:32:37.526493Z",
     "start_time": "2021-09-05T18:32:37.463559Z"
    }
   },
   "outputs": [
    {
     "data": {
      "text/plain": [
       "GB    0.254582\n",
       "PL    0.112315\n",
       "FR    0.097258\n",
       "IE    0.089503\n",
       "RO    0.085413\n",
       "ES    0.058712\n",
       "PT    0.044395\n",
       "CH    0.037208\n",
       "HU    0.034737\n",
       "IT    0.019670\n",
       "Name: COUNTRY, dtype: float64"
      ]
     },
     "execution_count": 11,
     "metadata": {},
     "output_type": "execute_result"
    }
   ],
   "source": [
    "users['COUNTRY'].value_counts(normalize=True)[0:10]"
   ]
  },
  {
   "cell_type": "code",
   "execution_count": 12,
   "metadata": {
    "ExecuteTime": {
     "end_time": "2021-09-05T18:32:37.553459Z",
     "start_time": "2021-09-05T18:32:37.529914Z"
    },
    "scrolled": true
   },
   "outputs": [
    {
     "data": {
      "text/plain": [
       "GB    0.665786\n",
       "FR    0.188904\n",
       "IT    0.047556\n",
       "IE    0.017173\n",
       "PT    0.014531\n",
       "DE    0.009247\n",
       "BE    0.007926\n",
       "RO    0.007926\n",
       "ES    0.006605\n",
       "PL    0.006605\n",
       "Name: COUNTRY, dtype: float64"
      ]
     },
     "execution_count": 12,
     "metadata": {},
     "output_type": "execute_result"
    }
   ],
   "source": [
    "users[users['TARGET']==1]['COUNTRY'].value_counts(normalize=True)[0:10]"
   ]
  },
  {
   "cell_type": "code",
   "execution_count": 13,
   "metadata": {
    "ExecuteTime": {
     "end_time": "2021-09-05T18:32:37.681993Z",
     "start_time": "2021-09-05T18:32:37.556496Z"
    }
   },
   "outputs": [
    {
     "name": "stdout",
     "output_type": "stream",
     "text": [
      "Overall fraud rate is 0.38 %\n"
     ]
    },
    {
     "data": {
      "text/html": [
       "<div>\n",
       "<style scoped>\n",
       "    .dataframe tbody tr th:only-of-type {\n",
       "        vertical-align: middle;\n",
       "    }\n",
       "\n",
       "    .dataframe tbody tr th {\n",
       "        vertical-align: top;\n",
       "    }\n",
       "\n",
       "    .dataframe thead tr th {\n",
       "        text-align: left;\n",
       "    }\n",
       "\n",
       "    .dataframe thead tr:last-of-type th {\n",
       "        text-align: right;\n",
       "    }\n",
       "</style>\n",
       "<table border=\"1\" class=\"dataframe\">\n",
       "  <thead>\n",
       "    <tr>\n",
       "      <th></th>\n",
       "      <th>count</th>\n",
       "      <th>sum</th>\n",
       "      <th>mean</th>\n",
       "    </tr>\n",
       "    <tr>\n",
       "      <th></th>\n",
       "      <th>TARGET</th>\n",
       "      <th>TARGET</th>\n",
       "      <th>TARGET</th>\n",
       "    </tr>\n",
       "    <tr>\n",
       "      <th>COUNTRY</th>\n",
       "      <th></th>\n",
       "      <th></th>\n",
       "      <th></th>\n",
       "    </tr>\n",
       "  </thead>\n",
       "  <tbody>\n",
       "    <tr>\n",
       "      <th>AT</th>\n",
       "      <td>619</td>\n",
       "      <td>1.0</td>\n",
       "      <td>0.001616</td>\n",
       "    </tr>\n",
       "    <tr>\n",
       "      <th>AU</th>\n",
       "      <td>202</td>\n",
       "      <td>0.0</td>\n",
       "      <td>0.000000</td>\n",
       "    </tr>\n",
       "    <tr>\n",
       "      <th>AW</th>\n",
       "      <td>2</td>\n",
       "      <td>0.0</td>\n",
       "      <td>0.000000</td>\n",
       "    </tr>\n",
       "    <tr>\n",
       "      <th>BE</th>\n",
       "      <td>1176</td>\n",
       "      <td>6.0</td>\n",
       "      <td>0.005102</td>\n",
       "    </tr>\n",
       "    <tr>\n",
       "      <th>BG</th>\n",
       "      <td>2152</td>\n",
       "      <td>1.0</td>\n",
       "      <td>0.000465</td>\n",
       "    </tr>\n",
       "    <tr>\n",
       "      <th>BL</th>\n",
       "      <td>3</td>\n",
       "      <td>0.0</td>\n",
       "      <td>0.000000</td>\n",
       "    </tr>\n",
       "    <tr>\n",
       "      <th>BM</th>\n",
       "      <td>6</td>\n",
       "      <td>0.0</td>\n",
       "      <td>0.000000</td>\n",
       "    </tr>\n",
       "    <tr>\n",
       "      <th>CH</th>\n",
       "      <td>7451</td>\n",
       "      <td>0.0</td>\n",
       "      <td>0.000000</td>\n",
       "    </tr>\n",
       "    <tr>\n",
       "      <th>CW</th>\n",
       "      <td>2</td>\n",
       "      <td>0.0</td>\n",
       "      <td>0.000000</td>\n",
       "    </tr>\n",
       "    <tr>\n",
       "      <th>CY</th>\n",
       "      <td>2448</td>\n",
       "      <td>1.0</td>\n",
       "      <td>0.000408</td>\n",
       "    </tr>\n",
       "    <tr>\n",
       "      <th>CZ</th>\n",
       "      <td>3759</td>\n",
       "      <td>0.0</td>\n",
       "      <td>0.000000</td>\n",
       "    </tr>\n",
       "    <tr>\n",
       "      <th>DE</th>\n",
       "      <td>2889</td>\n",
       "      <td>7.0</td>\n",
       "      <td>0.002423</td>\n",
       "    </tr>\n",
       "    <tr>\n",
       "      <th>DK</th>\n",
       "      <td>1197</td>\n",
       "      <td>2.0</td>\n",
       "      <td>0.001671</td>\n",
       "    </tr>\n",
       "    <tr>\n",
       "      <th>EE</th>\n",
       "      <td>511</td>\n",
       "      <td>2.0</td>\n",
       "      <td>0.003914</td>\n",
       "    </tr>\n",
       "    <tr>\n",
       "      <th>ES</th>\n",
       "      <td>11757</td>\n",
       "      <td>5.0</td>\n",
       "      <td>0.000425</td>\n",
       "    </tr>\n",
       "    <tr>\n",
       "      <th>FI</th>\n",
       "      <td>372</td>\n",
       "      <td>0.0</td>\n",
       "      <td>0.000000</td>\n",
       "    </tr>\n",
       "    <tr>\n",
       "      <th>FK</th>\n",
       "      <td>2</td>\n",
       "      <td>0.0</td>\n",
       "      <td>0.000000</td>\n",
       "    </tr>\n",
       "    <tr>\n",
       "      <th>FR</th>\n",
       "      <td>19476</td>\n",
       "      <td>143.0</td>\n",
       "      <td>0.007342</td>\n",
       "    </tr>\n",
       "    <tr>\n",
       "      <th>GB</th>\n",
       "      <td>50980</td>\n",
       "      <td>504.0</td>\n",
       "      <td>0.009886</td>\n",
       "    </tr>\n",
       "    <tr>\n",
       "      <th>GF</th>\n",
       "      <td>57</td>\n",
       "      <td>0.0</td>\n",
       "      <td>0.000000</td>\n",
       "    </tr>\n",
       "    <tr>\n",
       "      <th>GG</th>\n",
       "      <td>156</td>\n",
       "      <td>0.0</td>\n",
       "      <td>0.000000</td>\n",
       "    </tr>\n",
       "    <tr>\n",
       "      <th>GI</th>\n",
       "      <td>191</td>\n",
       "      <td>0.0</td>\n",
       "      <td>0.000000</td>\n",
       "    </tr>\n",
       "    <tr>\n",
       "      <th>GL</th>\n",
       "      <td>3</td>\n",
       "      <td>0.0</td>\n",
       "      <td>0.000000</td>\n",
       "    </tr>\n",
       "    <tr>\n",
       "      <th>GP</th>\n",
       "      <td>119</td>\n",
       "      <td>1.0</td>\n",
       "      <td>0.008403</td>\n",
       "    </tr>\n",
       "    <tr>\n",
       "      <th>GR</th>\n",
       "      <td>434</td>\n",
       "      <td>0.0</td>\n",
       "      <td>0.000000</td>\n",
       "    </tr>\n",
       "    <tr>\n",
       "      <th>HR</th>\n",
       "      <td>2186</td>\n",
       "      <td>0.0</td>\n",
       "      <td>0.000000</td>\n",
       "    </tr>\n",
       "    <tr>\n",
       "      <th>HU</th>\n",
       "      <td>6956</td>\n",
       "      <td>0.0</td>\n",
       "      <td>0.000000</td>\n",
       "    </tr>\n",
       "    <tr>\n",
       "      <th>IE</th>\n",
       "      <td>17923</td>\n",
       "      <td>13.0</td>\n",
       "      <td>0.000725</td>\n",
       "    </tr>\n",
       "    <tr>\n",
       "      <th>IM</th>\n",
       "      <td>112</td>\n",
       "      <td>0.0</td>\n",
       "      <td>0.000000</td>\n",
       "    </tr>\n",
       "    <tr>\n",
       "      <th>IS</th>\n",
       "      <td>69</td>\n",
       "      <td>0.0</td>\n",
       "      <td>0.000000</td>\n",
       "    </tr>\n",
       "    <tr>\n",
       "      <th>IT</th>\n",
       "      <td>3939</td>\n",
       "      <td>36.0</td>\n",
       "      <td>0.009139</td>\n",
       "    </tr>\n",
       "    <tr>\n",
       "      <th>JE</th>\n",
       "      <td>435</td>\n",
       "      <td>1.0</td>\n",
       "      <td>0.002299</td>\n",
       "    </tr>\n",
       "    <tr>\n",
       "      <th>KY</th>\n",
       "      <td>3</td>\n",
       "      <td>0.0</td>\n",
       "      <td>0.000000</td>\n",
       "    </tr>\n",
       "    <tr>\n",
       "      <th>LI</th>\n",
       "      <td>35</td>\n",
       "      <td>0.0</td>\n",
       "      <td>0.000000</td>\n",
       "    </tr>\n",
       "    <tr>\n",
       "      <th>LT</th>\n",
       "      <td>3129</td>\n",
       "      <td>1.0</td>\n",
       "      <td>0.000320</td>\n",
       "    </tr>\n",
       "    <tr>\n",
       "      <th>LU</th>\n",
       "      <td>201</td>\n",
       "      <td>0.0</td>\n",
       "      <td>0.000000</td>\n",
       "    </tr>\n",
       "    <tr>\n",
       "      <th>LV</th>\n",
       "      <td>2291</td>\n",
       "      <td>1.0</td>\n",
       "      <td>0.000436</td>\n",
       "    </tr>\n",
       "    <tr>\n",
       "      <th>MF</th>\n",
       "      <td>1</td>\n",
       "      <td>0.0</td>\n",
       "      <td>0.000000</td>\n",
       "    </tr>\n",
       "    <tr>\n",
       "      <th>MQ</th>\n",
       "      <td>110</td>\n",
       "      <td>0.0</td>\n",
       "      <td>0.000000</td>\n",
       "    </tr>\n",
       "    <tr>\n",
       "      <th>MT</th>\n",
       "      <td>2198</td>\n",
       "      <td>1.0</td>\n",
       "      <td>0.000455</td>\n",
       "    </tr>\n",
       "    <tr>\n",
       "      <th>NC</th>\n",
       "      <td>44</td>\n",
       "      <td>0.0</td>\n",
       "      <td>0.000000</td>\n",
       "    </tr>\n",
       "    <tr>\n",
       "      <th>NL</th>\n",
       "      <td>977</td>\n",
       "      <td>4.0</td>\n",
       "      <td>0.004094</td>\n",
       "    </tr>\n",
       "    <tr>\n",
       "      <th>NO</th>\n",
       "      <td>1144</td>\n",
       "      <td>0.0</td>\n",
       "      <td>0.000000</td>\n",
       "    </tr>\n",
       "    <tr>\n",
       "      <th>PF</th>\n",
       "      <td>56</td>\n",
       "      <td>0.0</td>\n",
       "      <td>0.000000</td>\n",
       "    </tr>\n",
       "    <tr>\n",
       "      <th>PL</th>\n",
       "      <td>22491</td>\n",
       "      <td>5.0</td>\n",
       "      <td>0.000222</td>\n",
       "    </tr>\n",
       "    <tr>\n",
       "      <th>PM</th>\n",
       "      <td>1</td>\n",
       "      <td>0.0</td>\n",
       "      <td>0.000000</td>\n",
       "    </tr>\n",
       "    <tr>\n",
       "      <th>PT</th>\n",
       "      <td>8890</td>\n",
       "      <td>11.0</td>\n",
       "      <td>0.001237</td>\n",
       "    </tr>\n",
       "    <tr>\n",
       "      <th>RE</th>\n",
       "      <td>139</td>\n",
       "      <td>1.0</td>\n",
       "      <td>0.007194</td>\n",
       "    </tr>\n",
       "    <tr>\n",
       "      <th>RO</th>\n",
       "      <td>17104</td>\n",
       "      <td>6.0</td>\n",
       "      <td>0.000351</td>\n",
       "    </tr>\n",
       "    <tr>\n",
       "      <th>SE</th>\n",
       "      <td>2076</td>\n",
       "      <td>1.0</td>\n",
       "      <td>0.000482</td>\n",
       "    </tr>\n",
       "    <tr>\n",
       "      <th>SG</th>\n",
       "      <td>2</td>\n",
       "      <td>0.0</td>\n",
       "      <td>0.000000</td>\n",
       "    </tr>\n",
       "    <tr>\n",
       "      <th>SI</th>\n",
       "      <td>577</td>\n",
       "      <td>1.0</td>\n",
       "      <td>0.001733</td>\n",
       "    </tr>\n",
       "    <tr>\n",
       "      <th>SK</th>\n",
       "      <td>1170</td>\n",
       "      <td>2.0</td>\n",
       "      <td>0.001709</td>\n",
       "    </tr>\n",
       "    <tr>\n",
       "      <th>SX</th>\n",
       "      <td>3</td>\n",
       "      <td>0.0</td>\n",
       "      <td>0.000000</td>\n",
       "    </tr>\n",
       "    <tr>\n",
       "      <th>US</th>\n",
       "      <td>2</td>\n",
       "      <td>0.0</td>\n",
       "      <td>0.000000</td>\n",
       "    </tr>\n",
       "    <tr>\n",
       "      <th>VG</th>\n",
       "      <td>2</td>\n",
       "      <td>0.0</td>\n",
       "      <td>0.000000</td>\n",
       "    </tr>\n",
       "    <tr>\n",
       "      <th>YT</th>\n",
       "      <td>20</td>\n",
       "      <td>0.0</td>\n",
       "      <td>0.000000</td>\n",
       "    </tr>\n",
       "  </tbody>\n",
       "</table>\n",
       "</div>"
      ],
      "text/plain": [
       "         count    sum      mean\n",
       "        TARGET TARGET    TARGET\n",
       "COUNTRY                        \n",
       "AT         619    1.0  0.001616\n",
       "AU         202    0.0  0.000000\n",
       "AW           2    0.0  0.000000\n",
       "BE        1176    6.0  0.005102\n",
       "BG        2152    1.0  0.000465\n",
       "BL           3    0.0  0.000000\n",
       "BM           6    0.0  0.000000\n",
       "CH        7451    0.0  0.000000\n",
       "CW           2    0.0  0.000000\n",
       "CY        2448    1.0  0.000408\n",
       "CZ        3759    0.0  0.000000\n",
       "DE        2889    7.0  0.002423\n",
       "DK        1197    2.0  0.001671\n",
       "EE         511    2.0  0.003914\n",
       "ES       11757    5.0  0.000425\n",
       "FI         372    0.0  0.000000\n",
       "FK           2    0.0  0.000000\n",
       "FR       19476  143.0  0.007342\n",
       "GB       50980  504.0  0.009886\n",
       "GF          57    0.0  0.000000\n",
       "GG         156    0.0  0.000000\n",
       "GI         191    0.0  0.000000\n",
       "GL           3    0.0  0.000000\n",
       "GP         119    1.0  0.008403\n",
       "GR         434    0.0  0.000000\n",
       "HR        2186    0.0  0.000000\n",
       "HU        6956    0.0  0.000000\n",
       "IE       17923   13.0  0.000725\n",
       "IM         112    0.0  0.000000\n",
       "IS          69    0.0  0.000000\n",
       "IT        3939   36.0  0.009139\n",
       "JE         435    1.0  0.002299\n",
       "KY           3    0.0  0.000000\n",
       "LI          35    0.0  0.000000\n",
       "LT        3129    1.0  0.000320\n",
       "LU         201    0.0  0.000000\n",
       "LV        2291    1.0  0.000436\n",
       "MF           1    0.0  0.000000\n",
       "MQ         110    0.0  0.000000\n",
       "MT        2198    1.0  0.000455\n",
       "NC          44    0.0  0.000000\n",
       "NL         977    4.0  0.004094\n",
       "NO        1144    0.0  0.000000\n",
       "PF          56    0.0  0.000000\n",
       "PL       22491    5.0  0.000222\n",
       "PM           1    0.0  0.000000\n",
       "PT        8890   11.0  0.001237\n",
       "RE         139    1.0  0.007194\n",
       "RO       17104    6.0  0.000351\n",
       "SE        2076    1.0  0.000482\n",
       "SG           2    0.0  0.000000\n",
       "SI         577    1.0  0.001733\n",
       "SK        1170    2.0  0.001709\n",
       "SX           3    0.0  0.000000\n",
       "US           2    0.0  0.000000\n",
       "VG           2    0.0  0.000000\n",
       "YT          20    0.0  0.000000"
      ]
     },
     "execution_count": 13,
     "metadata": {},
     "output_type": "execute_result"
    }
   ],
   "source": [
    "print(f\"Overall fraud rate is {round(users['TARGET'].mean()*100,2)} %\")\n",
    "\n",
    "table=pd.pivot_table(users, values=['TARGET'], index='COUNTRY', columns=None, aggfunc=['count','sum','mean'], fill_value=None, margins=False, dropna=True, margins_name='All')\n",
    "table"
   ]
  },
  {
   "cell_type": "markdown",
   "metadata": {},
   "source": [
    "## AGE"
   ]
  },
  {
   "cell_type": "code",
   "execution_count": 14,
   "metadata": {
    "ExecuteTime": {
     "end_time": "2021-09-05T18:32:37.855430Z",
     "start_time": "2021-09-05T18:32:37.685076Z"
    },
    "scrolled": true
   },
   "outputs": [
    {
     "name": "stdout",
     "output_type": "stream",
     "text": [
      "1900-12-31\n",
      "2001-05-03\n"
     ]
    }
   ],
   "source": [
    "print(users['BIRTH_DATE'].apply(lambda x: x[0:10]).min())\n",
    "print(users['BIRTH_DATE'].apply(lambda x: x[0:10]).max())"
   ]
  },
  {
   "cell_type": "code",
   "execution_count": 15,
   "metadata": {
    "ExecuteTime": {
     "end_time": "2021-09-05T18:32:38.044090Z",
     "start_time": "2021-09-05T18:32:37.857554Z"
    }
   },
   "outputs": [],
   "source": [
    "users['AGE']=2019-users['BIRTH_DATE'].apply(lambda x: int(x[0:4]))"
   ]
  },
  {
   "cell_type": "code",
   "execution_count": 16,
   "metadata": {
    "ExecuteTime": {
     "end_time": "2021-09-05T18:32:38.076130Z",
     "start_time": "2021-09-05T18:32:38.048379Z"
    }
   },
   "outputs": [
    {
     "name": "stdout",
     "output_type": "stream",
     "text": [
      "18\n",
      "119\n"
     ]
    }
   ],
   "source": [
    "print(users['AGE'].min())\n",
    "print(users['AGE'].max())"
   ]
  },
  {
   "cell_type": "code",
   "execution_count": 17,
   "metadata": {
    "ExecuteTime": {
     "end_time": "2021-09-05T18:32:38.314832Z",
     "start_time": "2021-09-05T18:32:38.078741Z"
    }
   },
   "outputs": [
    {
     "data": {
      "text/plain": [
       "<matplotlib.axes._subplots.AxesSubplot at 0x16eb622ccc0>"
      ]
     },
     "execution_count": 17,
     "metadata": {},
     "output_type": "execute_result"
    },
    {
     "data": {
      "image/png": "[encoded data removed]",
      "text/plain": [
       "<Figure size 432x288 with 1 Axes>"
      ]
     },
     "metadata": {
      "needs_background": "light"
     },
     "output_type": "display_data"
    }
   ],
   "source": [
    "users['AGE'].hist(bins=20)"
   ]
  },
  {
   "cell_type": "code",
   "execution_count": 18,
   "metadata": {
    "ExecuteTime": {
     "end_time": "2021-09-05T18:32:38.538892Z",
     "start_time": "2021-09-05T18:32:38.316870Z"
    }
   },
   "outputs": [
    {
     "data": {
      "text/plain": [
       "<matplotlib.axes._subplots.AxesSubplot at 0x16eb6c69898>"
      ]
     },
     "execution_count": 18,
     "metadata": {},
     "output_type": "execute_result"
    },
    {
     "data": {
      "image/png": "[encoded data removed]",
      "text/plain": [
       "<Figure size 432x288 with 1 Axes>"
      ]
     },
     "metadata": {
      "needs_background": "light"
     },
     "output_type": "display_data"
    }
   ],
   "source": [
    "users[users['TARGET']==1]['AGE'].hist(bins=20)"
   ]
  },
  {
   "cell_type": "code",
   "execution_count": 19,
   "metadata": {
    "ExecuteTime": {
     "end_time": "2021-09-05T18:32:38.857291Z",
     "start_time": "2021-09-05T18:32:38.540545Z"
    }
   },
   "outputs": [],
   "source": [
    "users['AGE_rounded']=users['AGE'].apply(lambda x: round(x,-1))"
   ]
  },
  {
   "cell_type": "code",
   "execution_count": 20,
   "metadata": {
    "ExecuteTime": {
     "end_time": "2021-09-05T18:32:38.925029Z",
     "start_time": "2021-09-05T18:32:38.860797Z"
    }
   },
   "outputs": [
    {
     "name": "stdout",
     "output_type": "stream",
     "text": [
      "Overall fraud rate is 0.38 %\n"
     ]
    },
    {
     "data": {
      "text/html": [
       "<div>\n",
       "<style scoped>\n",
       "    .dataframe tbody tr th:only-of-type {\n",
       "        vertical-align: middle;\n",
       "    }\n",
       "\n",
       "    .dataframe tbody tr th {\n",
       "        vertical-align: top;\n",
       "    }\n",
       "\n",
       "    .dataframe thead tr th {\n",
       "        text-align: left;\n",
       "    }\n",
       "\n",
       "    .dataframe thead tr:last-of-type th {\n",
       "        text-align: right;\n",
       "    }\n",
       "</style>\n",
       "<table border=\"1\" class=\"dataframe\">\n",
       "  <thead>\n",
       "    <tr>\n",
       "      <th></th>\n",
       "      <th>count</th>\n",
       "      <th>sum</th>\n",
       "      <th>mean</th>\n",
       "    </tr>\n",
       "    <tr>\n",
       "      <th></th>\n",
       "      <th>TARGET</th>\n",
       "      <th>TARGET</th>\n",
       "      <th>TARGET</th>\n",
       "    </tr>\n",
       "    <tr>\n",
       "      <th>AGE_rounded</th>\n",
       "      <th></th>\n",
       "      <th></th>\n",
       "      <th></th>\n",
       "    </tr>\n",
       "  </thead>\n",
       "  <tbody>\n",
       "    <tr>\n",
       "      <th>20</th>\n",
       "      <td>48046</td>\n",
       "      <td>456.0</td>\n",
       "      <td>0.009491</td>\n",
       "    </tr>\n",
       "    <tr>\n",
       "      <th>30</th>\n",
       "      <td>61209</td>\n",
       "      <td>152.0</td>\n",
       "      <td>0.002483</td>\n",
       "    </tr>\n",
       "    <tr>\n",
       "      <th>40</th>\n",
       "      <td>47939</td>\n",
       "      <td>87.0</td>\n",
       "      <td>0.001815</td>\n",
       "    </tr>\n",
       "    <tr>\n",
       "      <th>50</th>\n",
       "      <td>24855</td>\n",
       "      <td>35.0</td>\n",
       "      <td>0.001408</td>\n",
       "    </tr>\n",
       "    <tr>\n",
       "      <th>60</th>\n",
       "      <td>14449</td>\n",
       "      <td>19.0</td>\n",
       "      <td>0.001315</td>\n",
       "    </tr>\n",
       "    <tr>\n",
       "      <th>70</th>\n",
       "      <td>3187</td>\n",
       "      <td>6.0</td>\n",
       "      <td>0.001883</td>\n",
       "    </tr>\n",
       "    <tr>\n",
       "      <th>80</th>\n",
       "      <td>531</td>\n",
       "      <td>2.0</td>\n",
       "      <td>0.003766</td>\n",
       "    </tr>\n",
       "    <tr>\n",
       "      <th>90</th>\n",
       "      <td>28</td>\n",
       "      <td>0.0</td>\n",
       "      <td>0.000000</td>\n",
       "    </tr>\n",
       "    <tr>\n",
       "      <th>100</th>\n",
       "      <td>3</td>\n",
       "      <td>0.0</td>\n",
       "      <td>0.000000</td>\n",
       "    </tr>\n",
       "    <tr>\n",
       "      <th>110</th>\n",
       "      <td>2</td>\n",
       "      <td>0.0</td>\n",
       "      <td>0.000000</td>\n",
       "    </tr>\n",
       "    <tr>\n",
       "      <th>120</th>\n",
       "      <td>1</td>\n",
       "      <td>0.0</td>\n",
       "      <td>0.000000</td>\n",
       "    </tr>\n",
       "  </tbody>\n",
       "</table>\n",
       "</div>"
      ],
      "text/plain": [
       "             count    sum      mean\n",
       "            TARGET TARGET    TARGET\n",
       "AGE_rounded                        \n",
       "20           48046  456.0  0.009491\n",
       "30           61209  152.0  0.002483\n",
       "40           47939   87.0  0.001815\n",
       "50           24855   35.0  0.001408\n",
       "60           14449   19.0  0.001315\n",
       "70            3187    6.0  0.001883\n",
       "80             531    2.0  0.003766\n",
       "90              28    0.0  0.000000\n",
       "100              3    0.0  0.000000\n",
       "110              2    0.0  0.000000\n",
       "120              1    0.0  0.000000"
      ]
     },
     "execution_count": 20,
     "metadata": {},
     "output_type": "execute_result"
    }
   ],
   "source": [
    "print(f\"Overall fraud rate is {round(users['TARGET'].mean()*100,2)} %\")\n",
    "\n",
    "table=pd.pivot_table(users, values=['TARGET'], index='AGE_rounded', columns=None, aggfunc=['count','sum','mean'], fill_value=None, margins=False, dropna=True, margins_name='All')\n",
    "table"
   ]
  },
  {
   "cell_type": "markdown",
   "metadata": {},
   "source": [
    "# Transactions.csv"
   ]
  },
  {
   "cell_type": "code",
   "execution_count": 21,
   "metadata": {
    "ExecuteTime": {
     "end_time": "2021-09-05T18:32:42.192340Z",
     "start_time": "2021-09-05T18:32:38.927024Z"
    },
    "scrolled": true
   },
   "outputs": [
    {
     "data": {
      "text/html": [
       "<div>\n",
       "<style scoped>\n",
       "    .dataframe tbody tr th:only-of-type {\n",
       "        vertical-align: middle;\n",
       "    }\n",
       "\n",
       "    .dataframe tbody tr th {\n",
       "        vertical-align: top;\n",
       "    }\n",
       "\n",
       "    .dataframe thead th {\n",
       "        text-align: right;\n",
       "    }\n",
       "</style>\n",
       "<table border=\"1\" class=\"dataframe\">\n",
       "  <thead>\n",
       "    <tr style=\"text-align: right;\">\n",
       "      <th></th>\n",
       "      <th>ID</th>\n",
       "      <th>USER_ID</th>\n",
       "      <th>CREATED_DATE</th>\n",
       "      <th>TYPE</th>\n",
       "      <th>STATE</th>\n",
       "      <th>AMOUNT_GBP</th>\n",
       "      <th>CURRENCY</th>\n",
       "    </tr>\n",
       "  </thead>\n",
       "  <tbody>\n",
       "    <tr>\n",
       "      <th>0</th>\n",
       "      <td>f659b44e-cfdf-48de-bcf3-06f47ef26e9f</td>\n",
       "      <td>fd7f3ff6-0ed6-4a85-a7b5-2f205e0ef72f</td>\n",
       "      <td>2019-04-20 18:04:03.93</td>\n",
       "      <td>CARD_PAYMENT</td>\n",
       "      <td>COMPLETED</td>\n",
       "      <td>13.12</td>\n",
       "      <td>PLN</td>\n",
       "    </tr>\n",
       "    <tr>\n",
       "      <th>1</th>\n",
       "      <td>2ae18b8b-b9bc-4c44-96b1-d43efd8d371d</td>\n",
       "      <td>3979518e-95f7-4b6c-81ae-2f828727d81a</td>\n",
       "      <td>2019-05-03 13:09:57.625</td>\n",
       "      <td>TOPUP</td>\n",
       "      <td>REVERTED</td>\n",
       "      <td>0.01</td>\n",
       "      <td>RON</td>\n",
       "    </tr>\n",
       "    <tr>\n",
       "      <th>2</th>\n",
       "      <td>0162d352-dd18-40ab-b3ee-cf6584c9a238</td>\n",
       "      <td>75aa5388-9c89-4f72-bc54-67501519585b</td>\n",
       "      <td>2019-04-25 15:37:46.837</td>\n",
       "      <td>TOPUP</td>\n",
       "      <td>COMPLETED</td>\n",
       "      <td>10.00</td>\n",
       "      <td>GBP</td>\n",
       "    </tr>\n",
       "    <tr>\n",
       "      <th>3</th>\n",
       "      <td>a4e176f7-49ca-462b-9164-2f0645622148</td>\n",
       "      <td>45598164-6362-4ee4-bd70-ffee3bd1d707</td>\n",
       "      <td>2019-04-28 13:52:15.256</td>\n",
       "      <td>EXCHANGE</td>\n",
       "      <td>COMPLETED</td>\n",
       "      <td>0.11</td>\n",
       "      <td>RON</td>\n",
       "    </tr>\n",
       "    <tr>\n",
       "      <th>4</th>\n",
       "      <td>f6f9135f-fb2b-4a58-bb65-dd9713306a71</td>\n",
       "      <td>5a501ce5-f03c-410d-aabc-434b2cad741d</td>\n",
       "      <td>2019-05-13 16:02:12.081</td>\n",
       "      <td>CARD_PAYMENT</td>\n",
       "      <td>COMPLETED</td>\n",
       "      <td>9.79</td>\n",
       "      <td>EUR</td>\n",
       "    </tr>\n",
       "  </tbody>\n",
       "</table>\n",
       "</div>"
      ],
      "text/plain": [
       "                                     ID                               USER_ID  \\\n",
       "0  f659b44e-cfdf-48de-bcf3-06f47ef26e9f  fd7f3ff6-0ed6-4a85-a7b5-2f205e0ef72f   \n",
       "1  2ae18b8b-b9bc-4c44-96b1-d43efd8d371d  3979518e-95f7-4b6c-81ae-2f828727d81a   \n",
       "2  0162d352-dd18-40ab-b3ee-cf6584c9a238  75aa5388-9c89-4f72-bc54-67501519585b   \n",
       "3  a4e176f7-49ca-462b-9164-2f0645622148  45598164-6362-4ee4-bd70-ffee3bd1d707   \n",
       "4  f6f9135f-fb2b-4a58-bb65-dd9713306a71  5a501ce5-f03c-410d-aabc-434b2cad741d   \n",
       "\n",
       "              CREATED_DATE          TYPE      STATE  AMOUNT_GBP CURRENCY  \n",
       "0   2019-04-20 18:04:03.93  CARD_PAYMENT  COMPLETED       13.12      PLN  \n",
       "1  2019-05-03 13:09:57.625         TOPUP   REVERTED        0.01      RON  \n",
       "2  2019-04-25 15:37:46.837         TOPUP  COMPLETED       10.00      GBP  \n",
       "3  2019-04-28 13:52:15.256      EXCHANGE  COMPLETED        0.11      RON  \n",
       "4  2019-05-13 16:02:12.081  CARD_PAYMENT  COMPLETED        9.79      EUR  "
      ]
     },
     "execution_count": 21,
     "metadata": {},
     "output_type": "execute_result"
    }
   ],
   "source": [
    "transactions=pd.read_csv(r'c:\\Users\\hp\\Documents\\Data_science\\Repos\\Revolut_assignment\\Data\\transactions.csv')\n",
    "transactions.head()"
   ]
  },
  {
   "cell_type": "code",
   "execution_count": 22,
   "metadata": {
    "ExecuteTime": {
     "end_time": "2021-09-05T18:32:42.204178Z",
     "start_time": "2021-09-05T18:32:42.196158Z"
    }
   },
   "outputs": [
    {
     "data": {
      "text/plain": [
       "(1068361, 7)"
      ]
     },
     "execution_count": 22,
     "metadata": {},
     "output_type": "execute_result"
    }
   ],
   "source": [
    "transactions.shape"
   ]
  },
  {
   "cell_type": "code",
   "execution_count": 23,
   "metadata": {
    "ExecuteTime": {
     "end_time": "2021-09-05T18:32:42.589375Z",
     "start_time": "2021-09-05T18:32:42.213281Z"
    }
   },
   "outputs": [
    {
     "data": {
      "text/plain": [
       "TOPUP           602096\n",
       "CARD_PAYMENT    294504\n",
       "FEE              63458\n",
       "EXCHANGE         52565\n",
       "TRANSFER         36382\n",
       "ATM              19356\n",
       "Name: TYPE, dtype: int64"
      ]
     },
     "execution_count": 23,
     "metadata": {},
     "output_type": "execute_result"
    }
   ],
   "source": [
    "transactions['TYPE'].value_counts()"
   ]
  },
  {
   "cell_type": "code",
   "execution_count": 24,
   "metadata": {
    "ExecuteTime": {
     "end_time": "2021-09-05T18:32:42.923461Z",
     "start_time": "2021-09-05T18:32:42.643518Z"
    }
   },
   "outputs": [
    {
     "data": {
      "text/plain": [
       "COMPLETED    698585\n",
       "REVERTED     200730\n",
       "FAILED       105853\n",
       "DECLINED      63193\n",
       "Name: STATE, dtype: int64"
      ]
     },
     "execution_count": 24,
     "metadata": {},
     "output_type": "execute_result"
    }
   ],
   "source": [
    "transactions['STATE'].value_counts()"
   ]
  },
  {
   "cell_type": "code",
   "execution_count": 25,
   "metadata": {
    "ExecuteTime": {
     "end_time": "2021-09-05T18:32:43.122149Z",
     "start_time": "2021-09-05T18:32:42.926076Z"
    }
   },
   "outputs": [
    {
     "data": {
      "text/html": [
       "<div>\n",
       "<style scoped>\n",
       "    .dataframe tbody tr th:only-of-type {\n",
       "        vertical-align: middle;\n",
       "    }\n",
       "\n",
       "    .dataframe tbody tr th {\n",
       "        vertical-align: top;\n",
       "    }\n",
       "\n",
       "    .dataframe thead th {\n",
       "        text-align: right;\n",
       "    }\n",
       "</style>\n",
       "<table border=\"1\" class=\"dataframe\">\n",
       "  <thead>\n",
       "    <tr style=\"text-align: right;\">\n",
       "      <th></th>\n",
       "      <th>ID</th>\n",
       "      <th>USER_ID</th>\n",
       "      <th>CREATED_DATE</th>\n",
       "      <th>TYPE</th>\n",
       "      <th>STATE</th>\n",
       "      <th>AMOUNT_GBP</th>\n",
       "      <th>CURRENCY</th>\n",
       "    </tr>\n",
       "  </thead>\n",
       "  <tbody>\n",
       "    <tr>\n",
       "      <th>347399</th>\n",
       "      <td>09a1bbd2-2a06-4888-84dd-d34d7f2beb22</td>\n",
       "      <td>f17dd8af-2edb-4415-a950-d90a1b5e3e5b</td>\n",
       "      <td>2019-04-15 10:06:34.433</td>\n",
       "      <td>TOPUP</td>\n",
       "      <td>REVERTED</td>\n",
       "      <td>0.01</td>\n",
       "      <td>EUR</td>\n",
       "    </tr>\n",
       "    <tr>\n",
       "      <th>871687</th>\n",
       "      <td>51751a7a-6878-4340-a760-0f6bfec1a318</td>\n",
       "      <td>f17dd8af-2edb-4415-a950-d90a1b5e3e5b</td>\n",
       "      <td>2019-04-15 10:06:42.386</td>\n",
       "      <td>TOPUP</td>\n",
       "      <td>COMPLETED</td>\n",
       "      <td>8.92</td>\n",
       "      <td>EUR</td>\n",
       "    </tr>\n",
       "    <tr>\n",
       "      <th>897188</th>\n",
       "      <td>431a12fa-1165-4dc4-8e3f-1982f64115bd</td>\n",
       "      <td>f17dd8af-2edb-4415-a950-d90a1b5e3e5b</td>\n",
       "      <td>2019-04-15 23:35:33.973</td>\n",
       "      <td>FEE</td>\n",
       "      <td>COMPLETED</td>\n",
       "      <td>7.13</td>\n",
       "      <td>EUR</td>\n",
       "    </tr>\n",
       "    <tr>\n",
       "      <th>595416</th>\n",
       "      <td>a2263a6f-5933-4d90-84c6-a570d00dd111</td>\n",
       "      <td>f17dd8af-2edb-4415-a950-d90a1b5e3e5b</td>\n",
       "      <td>2019-04-25 00:48:53.695</td>\n",
       "      <td>TOPUP</td>\n",
       "      <td>COMPLETED</td>\n",
       "      <td>44.74</td>\n",
       "      <td>EUR</td>\n",
       "    </tr>\n",
       "    <tr>\n",
       "      <th>1054290</th>\n",
       "      <td>186cb7d0-c887-4993-bbe7-9683dec9f2cd</td>\n",
       "      <td>f17dd8af-2edb-4415-a950-d90a1b5e3e5b</td>\n",
       "      <td>2019-04-25 22:38:02.144</td>\n",
       "      <td>CARD_PAYMENT</td>\n",
       "      <td>DECLINED</td>\n",
       "      <td>13.48</td>\n",
       "      <td>AED</td>\n",
       "    </tr>\n",
       "    <tr>\n",
       "      <th>739928</th>\n",
       "      <td>fd4060a1-c3cd-4ec5-ba0d-dc57739a7b96</td>\n",
       "      <td>f17dd8af-2edb-4415-a950-d90a1b5e3e5b</td>\n",
       "      <td>2019-04-25 22:38:46.88</td>\n",
       "      <td>CARD_PAYMENT</td>\n",
       "      <td>COMPLETED</td>\n",
       "      <td>13.48</td>\n",
       "      <td>AED</td>\n",
       "    </tr>\n",
       "    <tr>\n",
       "      <th>277437</th>\n",
       "      <td>097bfa80-e5ca-4d0e-b3bc-0c0f18571712</td>\n",
       "      <td>f17dd8af-2edb-4415-a950-d90a1b5e3e5b</td>\n",
       "      <td>2019-04-25 22:42:26.677</td>\n",
       "      <td>CARD_PAYMENT</td>\n",
       "      <td>COMPLETED</td>\n",
       "      <td>5.35</td>\n",
       "      <td>AED</td>\n",
       "    </tr>\n",
       "    <tr>\n",
       "      <th>508274</th>\n",
       "      <td>c442a84e-ec9b-42b7-b248-cca5824fe574</td>\n",
       "      <td>f17dd8af-2edb-4415-a950-d90a1b5e3e5b</td>\n",
       "      <td>2019-04-26 09:51:42.224</td>\n",
       "      <td>CARD_PAYMENT</td>\n",
       "      <td>COMPLETED</td>\n",
       "      <td>13.87</td>\n",
       "      <td>PHP</td>\n",
       "    </tr>\n",
       "    <tr>\n",
       "      <th>221024</th>\n",
       "      <td>567da1b8-e588-4eb1-925c-f4e93c5362a7</td>\n",
       "      <td>f17dd8af-2edb-4415-a950-d90a1b5e3e5b</td>\n",
       "      <td>2019-04-26 10:23:35.36</td>\n",
       "      <td>TOPUP</td>\n",
       "      <td>FAILED</td>\n",
       "      <td>89.59</td>\n",
       "      <td>EUR</td>\n",
       "    </tr>\n",
       "    <tr>\n",
       "      <th>375192</th>\n",
       "      <td>ea6f0a4f-7d85-44e8-8cbd-c4e9e2a6ac5d</td>\n",
       "      <td>f17dd8af-2edb-4415-a950-d90a1b5e3e5b</td>\n",
       "      <td>2019-04-26 12:27:37.4</td>\n",
       "      <td>CARD_PAYMENT</td>\n",
       "      <td>COMPLETED</td>\n",
       "      <td>1.39</td>\n",
       "      <td>PHP</td>\n",
       "    </tr>\n",
       "  </tbody>\n",
       "</table>\n",
       "</div>"
      ],
      "text/plain": [
       "                                           ID  \\\n",
       "347399   09a1bbd2-2a06-4888-84dd-d34d7f2beb22   \n",
       "871687   51751a7a-6878-4340-a760-0f6bfec1a318   \n",
       "897188   431a12fa-1165-4dc4-8e3f-1982f64115bd   \n",
       "595416   a2263a6f-5933-4d90-84c6-a570d00dd111   \n",
       "1054290  186cb7d0-c887-4993-bbe7-9683dec9f2cd   \n",
       "739928   fd4060a1-c3cd-4ec5-ba0d-dc57739a7b96   \n",
       "277437   097bfa80-e5ca-4d0e-b3bc-0c0f18571712   \n",
       "508274   c442a84e-ec9b-42b7-b248-cca5824fe574   \n",
       "221024   567da1b8-e588-4eb1-925c-f4e93c5362a7   \n",
       "375192   ea6f0a4f-7d85-44e8-8cbd-c4e9e2a6ac5d   \n",
       "\n",
       "                                      USER_ID             CREATED_DATE  \\\n",
       "347399   f17dd8af-2edb-4415-a950-d90a1b5e3e5b  2019-04-15 10:06:34.433   \n",
       "871687   f17dd8af-2edb-4415-a950-d90a1b5e3e5b  2019-04-15 10:06:42.386   \n",
       "897188   f17dd8af-2edb-4415-a950-d90a1b5e3e5b  2019-04-15 23:35:33.973   \n",
       "595416   f17dd8af-2edb-4415-a950-d90a1b5e3e5b  2019-04-25 00:48:53.695   \n",
       "1054290  f17dd8af-2edb-4415-a950-d90a1b5e3e5b  2019-04-25 22:38:02.144   \n",
       "739928   f17dd8af-2edb-4415-a950-d90a1b5e3e5b   2019-04-25 22:38:46.88   \n",
       "277437   f17dd8af-2edb-4415-a950-d90a1b5e3e5b  2019-04-25 22:42:26.677   \n",
       "508274   f17dd8af-2edb-4415-a950-d90a1b5e3e5b  2019-04-26 09:51:42.224   \n",
       "221024   f17dd8af-2edb-4415-a950-d90a1b5e3e5b   2019-04-26 10:23:35.36   \n",
       "375192   f17dd8af-2edb-4415-a950-d90a1b5e3e5b    2019-04-26 12:27:37.4   \n",
       "\n",
       "                 TYPE      STATE  AMOUNT_GBP CURRENCY  \n",
       "347399          TOPUP   REVERTED        0.01      EUR  \n",
       "871687          TOPUP  COMPLETED        8.92      EUR  \n",
       "897188            FEE  COMPLETED        7.13      EUR  \n",
       "595416          TOPUP  COMPLETED       44.74      EUR  \n",
       "1054290  CARD_PAYMENT   DECLINED       13.48      AED  \n",
       "739928   CARD_PAYMENT  COMPLETED       13.48      AED  \n",
       "277437   CARD_PAYMENT  COMPLETED        5.35      AED  \n",
       "508274   CARD_PAYMENT  COMPLETED       13.87      PHP  \n",
       "221024          TOPUP     FAILED       89.59      EUR  \n",
       "375192   CARD_PAYMENT  COMPLETED        1.39      PHP  "
      ]
     },
     "execution_count": 25,
     "metadata": {},
     "output_type": "execute_result"
    }
   ],
   "source": [
    "transactions[transactions['USER_ID']=='f17dd8af-2edb-4415-a950-d90a1b5e3e5b'].sort_values(by='CREATED_DATE')"
   ]
  },
  {
   "cell_type": "markdown",
   "metadata": {},
   "source": [
    "# Final dataset"
   ]
  },
  {
   "cell_type": "code",
   "execution_count": 26,
   "metadata": {
    "ExecuteTime": {
     "end_time": "2021-09-05T18:32:51.361997Z",
     "start_time": "2021-09-05T18:32:43.125735Z"
    }
   },
   "outputs": [],
   "source": [
    "df=users.rename(columns={'ID':'USER_ID', 'CREATED_DATE':'ACCOUNT_CREATED_DATE'}).merge(transactions, how='inner', on='USER_ID').sort_values(by=['USER_ID','CREATED_DATE']).reset_index(drop=True)"
   ]
  },
  {
   "cell_type": "markdown",
   "metadata": {},
   "source": [
    "## Auxilliary columns"
   ]
  },
  {
   "cell_type": "code",
   "execution_count": 27,
   "metadata": {
    "ExecuteTime": {
     "end_time": "2021-09-05T18:32:53.851951Z",
     "start_time": "2021-09-05T18:32:51.366110Z"
    }
   },
   "outputs": [],
   "source": [
    "df['TRANSACTION_ONE']=1\n",
    "df['TOPUP_ONE']=(df['TYPE']=='TOPUP').astype(int)\n",
    "df['CP_ONE']=(df['TYPE']=='CARD_PAYMENT').astype(int)\n",
    "df['FEE_ONE']=(df['TYPE']=='FEE').astype(int)\n",
    "df['EXCHANGE_ONE']=(df['TYPE']=='EXCHANGE').astype(int)\n",
    "df['TRANSFER_ONE']=(df['TYPE']=='TRANSFER').astype(int)\n",
    "df['ATM_ONE']=(df['TYPE']=='ATM').astype(int)\n",
    "\n",
    "df['COMPLETED_ONE']=(df['STATE']=='COMPLETED').astype(int)\n",
    "df['REVERTED_ONE']=(df['STATE']=='REVERTED').astype(int)\n",
    "df['FAILED_ONE']=(df['STATE']=='FAILED').astype(int)\n",
    "df['DECLINED_ONE']=(df['STATE']=='DECLINED').astype(int)\n",
    "\n",
    "df['MONEY_IN_ONE']=((df['STATE']=='COMPLETED')&(df['TYPE']=='TOPUP')).astype(int)\n",
    "df['MONEY_OUT_ONE']=((df['STATE']=='COMPLETED')&(df['TYPE'].apply(lambda x: x in ['CARD_PAYMENT','TRANSFER','ATM','FEE']))).astype(int)\n",
    "\n",
    "df['TOPUP_NS_ONE']=(df['STATE'].apply(lambda x: x in ['DECLINED','FAILED'])&(df['TYPE']=='TOPUP')).astype(int)\n",
    "df['TOPUP_S_ONE']=(df['STATE'].apply(lambda x: x not in ['DECLINED','FAILED'])&(df['TYPE']=='TOPUP')).astype(int)"
   ]
  },
  {
   "cell_type": "code",
   "execution_count": 28,
   "metadata": {
    "ExecuteTime": {
     "end_time": "2021-09-05T18:32:56.615409Z",
     "start_time": "2021-09-05T18:32:53.855366Z"
    }
   },
   "outputs": [],
   "source": [
    "df['TRANSACTION_GBP']=df['AMOUNT_GBP']\n",
    "df['TOPUP_GBP']=(df['TYPE']=='TOPUP').astype(int)*df['AMOUNT_GBP']\n",
    "df['CP_GBP']=(df['TYPE']=='CARD_PAYMENT').astype(int)*df['AMOUNT_GBP']\n",
    "df['FEE_GBP']=(df['TYPE']=='FEE').astype(int)*df['AMOUNT_GBP']\n",
    "df['EXCHANGE_GBP']=(df['TYPE']=='EXCHANGE').astype(int)*df['AMOUNT_GBP']\n",
    "df['TRANSFER_GBP']=(df['TYPE']=='TRANSFER').astype(int)*df['AMOUNT_GBP']\n",
    "df['ATM_GBP']=(df['TYPE']=='ATM').astype(int)*df['AMOUNT_GBP']\n",
    "\n",
    "df['COMPLETED_GBP']=(df['STATE']=='COMPLETED').astype(int)*df['AMOUNT_GBP']\n",
    "df['REVERTED_GBP']=(df['STATE']=='REVERTED').astype(int)*df['AMOUNT_GBP']\n",
    "df['FAILED_GBP']=(df['STATE']=='FAILED').astype(int)*df['AMOUNT_GBP']\n",
    "df['DECLINED_GBP']=(df['STATE']=='DECLINED').astype(int)*df['AMOUNT_GBP']\n",
    "\n",
    "df['MONEY_IN_GBP']=((df['STATE']=='COMPLETED')&(df['TYPE']=='TOPUP')).astype(int)*df['AMOUNT_GBP']\n",
    "df['MONEY_OUT_GBP']=((df['STATE']=='COMPLETED')&(df['TYPE'].apply(lambda x: x in ['CARD_PAYMENT','TRANSFER','ATM','FEE']))).astype(int)*df['AMOUNT_GBP']\n",
    "\n",
    "df['TOPUP_NS_GBP']=(df['STATE'].apply(lambda x: x in ['DECLINED','FAILED'])&(df['TYPE']=='TOPUP')).astype(int)*df['AMOUNT_GBP']\n",
    "df['TOPUP_S_GBP']=(df['STATE'].apply(lambda x: x not in ['DECLINED','FAILED'])&(df['TYPE']=='TOPUP')).astype(int)*df['AMOUNT_GBP']"
   ]
  },
  {
   "cell_type": "code",
   "execution_count": 29,
   "metadata": {
    "ExecuteTime": {
     "end_time": "2021-09-05T18:32:57.222749Z",
     "start_time": "2021-09-05T18:32:56.618183Z"
    }
   },
   "outputs": [
    {
     "data": {
      "text/html": [
       "<div>\n",
       "<style scoped>\n",
       "    .dataframe tbody tr th:only-of-type {\n",
       "        vertical-align: middle;\n",
       "    }\n",
       "\n",
       "    .dataframe tbody tr th {\n",
       "        vertical-align: top;\n",
       "    }\n",
       "\n",
       "    .dataframe thead th {\n",
       "        text-align: right;\n",
       "    }\n",
       "</style>\n",
       "<table border=\"1\" class=\"dataframe\">\n",
       "  <thead>\n",
       "    <tr style=\"text-align: right;\">\n",
       "      <th></th>\n",
       "      <th>USER_ID</th>\n",
       "      <th>ACCOUNT_CREATED_DATE</th>\n",
       "      <th>COUNTRY</th>\n",
       "      <th>BIRTH_DATE</th>\n",
       "      <th>TARGET</th>\n",
       "      <th>AGE</th>\n",
       "      <th>AGE_rounded</th>\n",
       "      <th>ID</th>\n",
       "      <th>CREATED_DATE</th>\n",
       "      <th>TYPE</th>\n",
       "      <th>...</th>\n",
       "      <th>ATM_GBP</th>\n",
       "      <th>COMPLETED_GBP</th>\n",
       "      <th>REVERTED_GBP</th>\n",
       "      <th>FAILED_GBP</th>\n",
       "      <th>DECLINED_GBP</th>\n",
       "      <th>MONEY_IN_GBP</th>\n",
       "      <th>MONEY_OUT_GBP</th>\n",
       "      <th>TOPUP_NS_GBP</th>\n",
       "      <th>TOPUP_S_GBP</th>\n",
       "      <th>CREATED_DATE_DAY</th>\n",
       "    </tr>\n",
       "  </thead>\n",
       "  <tbody>\n",
       "    <tr>\n",
       "      <th>0</th>\n",
       "      <td>00001f33-1d47-47a3-8955-e719172e788b</td>\n",
       "      <td>2019-04-11 20:49:42.623</td>\n",
       "      <td>IE</td>\n",
       "      <td>1994-08-17</td>\n",
       "      <td>0.0</td>\n",
       "      <td>25</td>\n",
       "      <td>20</td>\n",
       "      <td>9499c9c9-c9a9-410f-820d-c6e92fed27fb</td>\n",
       "      <td>2019-04-11 20:53:54.7</td>\n",
       "      <td>TOPUP</td>\n",
       "      <td>...</td>\n",
       "      <td>0.0</td>\n",
       "      <td>0.00</td>\n",
       "      <td>0.01</td>\n",
       "      <td>0.0</td>\n",
       "      <td>0.0</td>\n",
       "      <td>0.00</td>\n",
       "      <td>0.00</td>\n",
       "      <td>0.0</td>\n",
       "      <td>0.01</td>\n",
       "      <td>2019-04-11</td>\n",
       "    </tr>\n",
       "    <tr>\n",
       "      <th>1</th>\n",
       "      <td>00001f33-1d47-47a3-8955-e719172e788b</td>\n",
       "      <td>2019-04-11 20:49:42.623</td>\n",
       "      <td>IE</td>\n",
       "      <td>1994-08-17</td>\n",
       "      <td>0.0</td>\n",
       "      <td>25</td>\n",
       "      <td>20</td>\n",
       "      <td>b310db00-490f-4185-b247-c59f5694dd67</td>\n",
       "      <td>2019-04-11 20:54:02.156</td>\n",
       "      <td>TOPUP</td>\n",
       "      <td>...</td>\n",
       "      <td>0.0</td>\n",
       "      <td>8.92</td>\n",
       "      <td>0.00</td>\n",
       "      <td>0.0</td>\n",
       "      <td>0.0</td>\n",
       "      <td>8.92</td>\n",
       "      <td>0.00</td>\n",
       "      <td>0.0</td>\n",
       "      <td>8.92</td>\n",
       "      <td>2019-04-11</td>\n",
       "    </tr>\n",
       "    <tr>\n",
       "      <th>2</th>\n",
       "      <td>00001f33-1d47-47a3-8955-e719172e788b</td>\n",
       "      <td>2019-04-11 20:49:42.623</td>\n",
       "      <td>IE</td>\n",
       "      <td>1994-08-17</td>\n",
       "      <td>0.0</td>\n",
       "      <td>25</td>\n",
       "      <td>20</td>\n",
       "      <td>e6021128-f4c1-4164-b3de-697e66ad613c</td>\n",
       "      <td>2019-04-11 20:55:20.996</td>\n",
       "      <td>FEE</td>\n",
       "      <td>...</td>\n",
       "      <td>0.0</td>\n",
       "      <td>5.34</td>\n",
       "      <td>0.00</td>\n",
       "      <td>0.0</td>\n",
       "      <td>0.0</td>\n",
       "      <td>0.00</td>\n",
       "      <td>5.34</td>\n",
       "      <td>0.0</td>\n",
       "      <td>0.00</td>\n",
       "      <td>2019-04-11</td>\n",
       "    </tr>\n",
       "    <tr>\n",
       "      <th>3</th>\n",
       "      <td>00001f33-1d47-47a3-8955-e719172e788b</td>\n",
       "      <td>2019-04-11 20:49:42.623</td>\n",
       "      <td>IE</td>\n",
       "      <td>1994-08-17</td>\n",
       "      <td>0.0</td>\n",
       "      <td>25</td>\n",
       "      <td>20</td>\n",
       "      <td>a9aa681d-451e-44c5-8df0-687661ac583d</td>\n",
       "      <td>2019-04-19 21:05:53.192</td>\n",
       "      <td>TOPUP</td>\n",
       "      <td>...</td>\n",
       "      <td>0.0</td>\n",
       "      <td>115.84</td>\n",
       "      <td>0.00</td>\n",
       "      <td>0.0</td>\n",
       "      <td>0.0</td>\n",
       "      <td>115.84</td>\n",
       "      <td>0.00</td>\n",
       "      <td>0.0</td>\n",
       "      <td>115.84</td>\n",
       "      <td>2019-04-19</td>\n",
       "    </tr>\n",
       "    <tr>\n",
       "      <th>4</th>\n",
       "      <td>00001f33-1d47-47a3-8955-e719172e788b</td>\n",
       "      <td>2019-04-11 20:49:42.623</td>\n",
       "      <td>IE</td>\n",
       "      <td>1994-08-17</td>\n",
       "      <td>0.0</td>\n",
       "      <td>25</td>\n",
       "      <td>20</td>\n",
       "      <td>1be7d138-fbaf-4216-8dc8-5056ec5f972c</td>\n",
       "      <td>2019-04-21 10:14:53.814</td>\n",
       "      <td>CARD_PAYMENT</td>\n",
       "      <td>...</td>\n",
       "      <td>0.0</td>\n",
       "      <td>44.44</td>\n",
       "      <td>0.00</td>\n",
       "      <td>0.0</td>\n",
       "      <td>0.0</td>\n",
       "      <td>0.00</td>\n",
       "      <td>44.44</td>\n",
       "      <td>0.0</td>\n",
       "      <td>0.00</td>\n",
       "      <td>2019-04-21</td>\n",
       "    </tr>\n",
       "  </tbody>\n",
       "</table>\n",
       "<p>5 rows × 44 columns</p>\n",
       "</div>"
      ],
      "text/plain": [
       "                                USER_ID     ACCOUNT_CREATED_DATE COUNTRY  \\\n",
       "0  00001f33-1d47-47a3-8955-e719172e788b  2019-04-11 20:49:42.623      IE   \n",
       "1  00001f33-1d47-47a3-8955-e719172e788b  2019-04-11 20:49:42.623      IE   \n",
       "2  00001f33-1d47-47a3-8955-e719172e788b  2019-04-11 20:49:42.623      IE   \n",
       "3  00001f33-1d47-47a3-8955-e719172e788b  2019-04-11 20:49:42.623      IE   \n",
       "4  00001f33-1d47-47a3-8955-e719172e788b  2019-04-11 20:49:42.623      IE   \n",
       "\n",
       "   BIRTH_DATE  TARGET  AGE  AGE_rounded                                    ID  \\\n",
       "0  1994-08-17     0.0   25           20  9499c9c9-c9a9-410f-820d-c6e92fed27fb   \n",
       "1  1994-08-17     0.0   25           20  b310db00-490f-4185-b247-c59f5694dd67   \n",
       "2  1994-08-17     0.0   25           20  e6021128-f4c1-4164-b3de-697e66ad613c   \n",
       "3  1994-08-17     0.0   25           20  a9aa681d-451e-44c5-8df0-687661ac583d   \n",
       "4  1994-08-17     0.0   25           20  1be7d138-fbaf-4216-8dc8-5056ec5f972c   \n",
       "\n",
       "              CREATED_DATE          TYPE  ... ATM_GBP  COMPLETED_GBP  \\\n",
       "0    2019-04-11 20:53:54.7         TOPUP  ...     0.0           0.00   \n",
       "1  2019-04-11 20:54:02.156         TOPUP  ...     0.0           8.92   \n",
       "2  2019-04-11 20:55:20.996           FEE  ...     0.0           5.34   \n",
       "3  2019-04-19 21:05:53.192         TOPUP  ...     0.0         115.84   \n",
       "4  2019-04-21 10:14:53.814  CARD_PAYMENT  ...     0.0          44.44   \n",
       "\n",
       "  REVERTED_GBP  FAILED_GBP  DECLINED_GBP  MONEY_IN_GBP  MONEY_OUT_GBP  \\\n",
       "0         0.01         0.0           0.0          0.00           0.00   \n",
       "1         0.00         0.0           0.0          8.92           0.00   \n",
       "2         0.00         0.0           0.0          0.00           5.34   \n",
       "3         0.00         0.0           0.0        115.84           0.00   \n",
       "4         0.00         0.0           0.0          0.00          44.44   \n",
       "\n",
       "   TOPUP_NS_GBP  TOPUP_S_GBP  CREATED_DATE_DAY  \n",
       "0           0.0         0.01        2019-04-11  \n",
       "1           0.0         8.92        2019-04-11  \n",
       "2           0.0         0.00        2019-04-11  \n",
       "3           0.0       115.84        2019-04-19  \n",
       "4           0.0         0.00        2019-04-21  \n",
       "\n",
       "[5 rows x 44 columns]"
      ]
     },
     "execution_count": 29,
     "metadata": {},
     "output_type": "execute_result"
    }
   ],
   "source": [
    "df['CREATED_DATE_DAY']=df['CREATED_DATE'].apply(lambda x: x[:10])\n",
    "df.head()"
   ]
  },
  {
   "cell_type": "markdown",
   "metadata": {},
   "source": [
    "## Using cumulative sums to get the final predictors"
   ]
  },
  {
   "cell_type": "code",
   "execution_count": 30,
   "metadata": {
    "ExecuteTime": {
     "end_time": "2021-09-05T18:32:57.238060Z",
     "start_time": "2021-09-05T18:32:57.224412Z"
    },
    "scrolled": true
   },
   "outputs": [
    {
     "name": "stdout",
     "output_type": "stream",
     "text": [
      "df['TRANSACTION_NO']=df.groupby(['USER_ID'], as_index=False)[['USER_ID','TRANSACTION_ONE']].cumsum()\n",
      "df['TRANSACTION_DAY_NO']=df.groupby(['USER_ID','CREATED_DATE_DAY'], as_index=False)[['USER_ID','TRANSACTION_ONE']].cumsum()\n",
      "df['TRANSACTION_SUM']=df.groupby(['USER_ID'], as_index=False)[['USER_ID','TRANSACTION_GBP']].cumsum()\n",
      "df['TRANSACTION_DAY_SUM']=df.groupby(['USER_ID','CREATED_DATE_DAY'], as_index=False)[['USER_ID','TRANSACTION_GBP']].cumsum()\n",
      "\n",
      "df['TOPUP_NO']=df.groupby(['USER_ID'], as_index=False)[['USER_ID','TOPUP_ONE']].cumsum()\n",
      "df['TOPUP_DAY_NO']=df.groupby(['USER_ID','CREATED_DATE_DAY'], as_index=False)[['USER_ID','TOPUP_ONE']].cumsum()\n",
      "df['TOPUP_SUM']=df.groupby(['USER_ID'], as_index=False)[['USER_ID','TOPUP_GBP']].cumsum()\n",
      "df['TOPUP_DAY_SUM']=df.groupby(['USER_ID','CREATED_DATE_DAY'], as_index=False)[['USER_ID','TOPUP_GBP']].cumsum()\n",
      "\n",
      "df['CP_NO']=df.groupby(['USER_ID'], as_index=False)[['USER_ID','CP_ONE']].cumsum()\n",
      "df['CP_DAY_NO']=df.groupby(['USER_ID','CREATED_DATE_DAY'], as_index=False)[['USER_ID','CP_ONE']].cumsum()\n",
      "df['CP_SUM']=df.groupby(['USER_ID'], as_index=False)[['USER_ID','CP_GBP']].cumsum()\n",
      "df['CP_DAY_SUM']=df.groupby(['USER_ID','CREATED_DATE_DAY'], as_index=False)[['USER_ID','CP_GBP']].cumsum()\n",
      "\n",
      "df['FEE_NO']=df.groupby(['USER_ID'], as_index=False)[['USER_ID','FEE_ONE']].cumsum()\n",
      "df['FEE_DAY_NO']=df.groupby(['USER_ID','CREATED_DATE_DAY'], as_index=False)[['USER_ID','FEE_ONE']].cumsum()\n",
      "df['FEE_SUM']=df.groupby(['USER_ID'], as_index=False)[['USER_ID','FEE_GBP']].cumsum()\n",
      "df['FEE_DAY_SUM']=df.groupby(['USER_ID','CREATED_DATE_DAY'], as_index=False)[['USER_ID','FEE_GBP']].cumsum()\n",
      "\n",
      "df['EXCHANGE_NO']=df.groupby(['USER_ID'], as_index=False)[['USER_ID','EXCHANGE_ONE']].cumsum()\n",
      "df['EXCHANGE_DAY_NO']=df.groupby(['USER_ID','CREATED_DATE_DAY'], as_index=False)[['USER_ID','EXCHANGE_ONE']].cumsum()\n",
      "df['EXCHANGE_SUM']=df.groupby(['USER_ID'], as_index=False)[['USER_ID','EXCHANGE_GBP']].cumsum()\n",
      "df['EXCHANGE_DAY_SUM']=df.groupby(['USER_ID','CREATED_DATE_DAY'], as_index=False)[['USER_ID','EXCHANGE_GBP']].cumsum()\n",
      "\n",
      "df['TRANSFER_NO']=df.groupby(['USER_ID'], as_index=False)[['USER_ID','TRANSFER_ONE']].cumsum()\n",
      "df['TRANSFER_DAY_NO']=df.groupby(['USER_ID','CREATED_DATE_DAY'], as_index=False)[['USER_ID','TRANSFER_ONE']].cumsum()\n",
      "df['TRANSFER_SUM']=df.groupby(['USER_ID'], as_index=False)[['USER_ID','TRANSFER_GBP']].cumsum()\n",
      "df['TRANSFER_DAY_SUM']=df.groupby(['USER_ID','CREATED_DATE_DAY'], as_index=False)[['USER_ID','TRANSFER_GBP']].cumsum()\n",
      "\n",
      "df['ATM_NO']=df.groupby(['USER_ID'], as_index=False)[['USER_ID','ATM_ONE']].cumsum()\n",
      "df['ATM_DAY_NO']=df.groupby(['USER_ID','CREATED_DATE_DAY'], as_index=False)[['USER_ID','ATM_ONE']].cumsum()\n",
      "df['ATM_SUM']=df.groupby(['USER_ID'], as_index=False)[['USER_ID','ATM_GBP']].cumsum()\n",
      "df['ATM_DAY_SUM']=df.groupby(['USER_ID','CREATED_DATE_DAY'], as_index=False)[['USER_ID','ATM_GBP']].cumsum()\n",
      "\n",
      "df['COMPLETED_NO']=df.groupby(['USER_ID'], as_index=False)[['USER_ID','COMPLETED_ONE']].cumsum()\n",
      "df['COMPLETED_DAY_NO']=df.groupby(['USER_ID','CREATED_DATE_DAY'], as_index=False)[['USER_ID','COMPLETED_ONE']].cumsum()\n",
      "df['COMPLETED_SUM']=df.groupby(['USER_ID'], as_index=False)[['USER_ID','COMPLETED_GBP']].cumsum()\n",
      "df['COMPLETED_DAY_SUM']=df.groupby(['USER_ID','CREATED_DATE_DAY'], as_index=False)[['USER_ID','COMPLETED_GBP']].cumsum()\n",
      "\n",
      "df['REVERTED_NO']=df.groupby(['USER_ID'], as_index=False)[['USER_ID','REVERTED_ONE']].cumsum()\n",
      "df['REVERTED_DAY_NO']=df.groupby(['USER_ID','CREATED_DATE_DAY'], as_index=False)[['USER_ID','REVERTED_ONE']].cumsum()\n",
      "df['REVERTED_SUM']=df.groupby(['USER_ID'], as_index=False)[['USER_ID','REVERTED_GBP']].cumsum()\n",
      "df['REVERTED_DAY_SUM']=df.groupby(['USER_ID','CREATED_DATE_DAY'], as_index=False)[['USER_ID','REVERTED_GBP']].cumsum()\n",
      "\n",
      "df['FAILED_NO']=df.groupby(['USER_ID'], as_index=False)[['USER_ID','FAILED_ONE']].cumsum()\n",
      "df['FAILED_DAY_NO']=df.groupby(['USER_ID','CREATED_DATE_DAY'], as_index=False)[['USER_ID','FAILED_ONE']].cumsum()\n",
      "df['FAILED_SUM']=df.groupby(['USER_ID'], as_index=False)[['USER_ID','FAILED_GBP']].cumsum()\n",
      "df['FAILED_DAY_SUM']=df.groupby(['USER_ID','CREATED_DATE_DAY'], as_index=False)[['USER_ID','FAILED_GBP']].cumsum()\n",
      "\n",
      "df['DECLINED_NO']=df.groupby(['USER_ID'], as_index=False)[['USER_ID','DECLINED_ONE']].cumsum()\n",
      "df['DECLINED_DAY_NO']=df.groupby(['USER_ID','CREATED_DATE_DAY'], as_index=False)[['USER_ID','DECLINED_ONE']].cumsum()\n",
      "df['DECLINED_SUM']=df.groupby(['USER_ID'], as_index=False)[['USER_ID','DECLINED_GBP']].cumsum()\n",
      "df['DECLINED_DAY_SUM']=df.groupby(['USER_ID','CREATED_DATE_DAY'], as_index=False)[['USER_ID','DECLINED_GBP']].cumsum()\n",
      "\n",
      "df['MONEY_IN_NO']=df.groupby(['USER_ID'], as_index=False)[['USER_ID','MONEY_IN_ONE']].cumsum()\n",
      "df['MONEY_IN_DAY_NO']=df.groupby(['USER_ID','CREATED_DATE_DAY'], as_index=False)[['USER_ID','MONEY_IN_ONE']].cumsum()\n",
      "df['MONEY_IN_SUM']=df.groupby(['USER_ID'], as_index=False)[['USER_ID','MONEY_IN_GBP']].cumsum()\n",
      "df['MONEY_IN_DAY_SUM']=df.groupby(['USER_ID','CREATED_DATE_DAY'], as_index=False)[['USER_ID','MONEY_IN_GBP']].cumsum()\n",
      "\n",
      "df['MONEY_OUT_NO']=df.groupby(['USER_ID'], as_index=False)[['USER_ID','MONEY_OUT_ONE']].cumsum()\n",
      "df['MONEY_OUT_DAY_NO']=df.groupby(['USER_ID','CREATED_DATE_DAY'], as_index=False)[['USER_ID','MONEY_OUT_ONE']].cumsum()\n",
      "df['MONEY_OUT_SUM']=df.groupby(['USER_ID'], as_index=False)[['USER_ID','MONEY_OUT_GBP']].cumsum()\n",
      "df['MONEY_OUT_DAY_SUM']=df.groupby(['USER_ID','CREATED_DATE_DAY'], as_index=False)[['USER_ID','MONEY_OUT_GBP']].cumsum()\n",
      "\n",
      "df['TOPUP_NS_NO']=df.groupby(['USER_ID'], as_index=False)[['USER_ID','TOPUP_NS_ONE']].cumsum()\n",
      "df['TOPUP_NS_DAY_NO']=df.groupby(['USER_ID','CREATED_DATE_DAY'], as_index=False)[['USER_ID','TOPUP_NS_ONE']].cumsum()\n",
      "df['TOPUP_NS_SUM']=df.groupby(['USER_ID'], as_index=False)[['USER_ID','TOPUP_NS_GBP']].cumsum()\n",
      "df['TOPUP_NS_DAY_SUM']=df.groupby(['USER_ID','CREATED_DATE_DAY'], as_index=False)[['USER_ID','TOPUP_NS_GBP']].cumsum()\n",
      "\n",
      "df['TOPUP_S_NO']=df.groupby(['USER_ID'], as_index=False)[['USER_ID','TOPUP_S_ONE']].cumsum()\n",
      "df['TOPUP_S_DAY_NO']=df.groupby(['USER_ID','CREATED_DATE_DAY'], as_index=False)[['USER_ID','TOPUP_S_ONE']].cumsum()\n",
      "df['TOPUP_S_SUM']=df.groupby(['USER_ID'], as_index=False)[['USER_ID','TOPUP_S_GBP']].cumsum()\n",
      "df['TOPUP_S_DAY_SUM']=df.groupby(['USER_ID','CREATED_DATE_DAY'], as_index=False)[['USER_ID','TOPUP_S_GBP']].cumsum()\n",
      "\n"
     ]
    }
   ],
   "source": [
    "for str_ in ['TRANSACTION', 'TOPUP', 'CP', 'FEE', 'EXCHANGE', 'TRANSFER', 'ATM', 'COMPLETED', 'REVERTED', \"FAILED\", 'DECLINED',\n",
    "            'MONEY_IN', 'MONEY_OUT', 'TOPUP_NS', 'TOPUP_S']:\n",
    "    print(f\"\"\"df['{str_}_NO']=df.groupby(['USER_ID'], as_index=False)[['USER_ID','{str_}_ONE']].cumsum()\n",
    "df['{str_}_DAY_NO']=df.groupby(['USER_ID','CREATED_DATE_DAY'], as_index=False)[['USER_ID','{str_}_ONE']].cumsum()\n",
    "df['{str_}_SUM']=df.groupby(['USER_ID'], as_index=False)[['USER_ID','{str_}_GBP']].cumsum()\n",
    "df['{str_}_DAY_SUM']=df.groupby(['USER_ID','CREATED_DATE_DAY'], as_index=False)[['USER_ID','{str_}_GBP']].cumsum()\n",
    "\"\"\")"
   ]
  },
  {
   "cell_type": "code",
   "execution_count": 31,
   "metadata": {
    "ExecuteTime": {
     "end_time": "2021-09-05T18:33:45.407974Z",
     "start_time": "2021-09-05T18:32:57.241384Z"
    }
   },
   "outputs": [],
   "source": [
    "df['TRANSACTION_NO']=df.groupby(['USER_ID'], as_index=False)[['USER_ID','TRANSACTION_ONE']].cumsum()\n",
    "df['TRANSACTION_DAY_NO']=df.groupby(['USER_ID','CREATED_DATE_DAY'], as_index=False)[['USER_ID','TRANSACTION_ONE']].cumsum()\n",
    "df['TRANSACTION_SUM']=df.groupby(['USER_ID'], as_index=False)[['USER_ID','TRANSACTION_GBP']].cumsum()\n",
    "df['TRANSACTION_DAY_SUM']=df.groupby(['USER_ID','CREATED_DATE_DAY'], as_index=False)[['USER_ID','TRANSACTION_GBP']].cumsum()\n",
    "\n",
    "df['TOPUP_NO']=df.groupby(['USER_ID'], as_index=False)[['USER_ID','TOPUP_ONE']].cumsum()\n",
    "df['TOPUP_DAY_NO']=df.groupby(['USER_ID','CREATED_DATE_DAY'], as_index=False)[['USER_ID','TOPUP_ONE']].cumsum()\n",
    "df['TOPUP_SUM']=df.groupby(['USER_ID'], as_index=False)[['USER_ID','TOPUP_GBP']].cumsum()\n",
    "df['TOPUP_DAY_SUM']=df.groupby(['USER_ID','CREATED_DATE_DAY'], as_index=False)[['USER_ID','TOPUP_GBP']].cumsum()\n",
    "\n",
    "df['CP_NO']=df.groupby(['USER_ID'], as_index=False)[['USER_ID','CP_ONE']].cumsum()\n",
    "df['CP_DAY_NO']=df.groupby(['USER_ID','CREATED_DATE_DAY'], as_index=False)[['USER_ID','CP_ONE']].cumsum()\n",
    "df['CP_SUM']=df.groupby(['USER_ID'], as_index=False)[['USER_ID','CP_GBP']].cumsum()\n",
    "df['CP_DAY_SUM']=df.groupby(['USER_ID','CREATED_DATE_DAY'], as_index=False)[['USER_ID','CP_GBP']].cumsum()\n",
    "\n",
    "df['FEE_NO']=df.groupby(['USER_ID'], as_index=False)[['USER_ID','FEE_ONE']].cumsum()\n",
    "df['FEE_DAY_NO']=df.groupby(['USER_ID','CREATED_DATE_DAY'], as_index=False)[['USER_ID','FEE_ONE']].cumsum()\n",
    "df['FEE_SUM']=df.groupby(['USER_ID'], as_index=False)[['USER_ID','FEE_GBP']].cumsum()\n",
    "df['FEE_DAY_SUM']=df.groupby(['USER_ID','CREATED_DATE_DAY'], as_index=False)[['USER_ID','FEE_GBP']].cumsum()\n",
    "\n",
    "df['EXCHANGE_NO']=df.groupby(['USER_ID'], as_index=False)[['USER_ID','EXCHANGE_ONE']].cumsum()\n",
    "df['EXCHANGE_DAY_NO']=df.groupby(['USER_ID','CREATED_DATE_DAY'], as_index=False)[['USER_ID','EXCHANGE_ONE']].cumsum()\n",
    "df['EXCHANGE_SUM']=df.groupby(['USER_ID'], as_index=False)[['USER_ID','EXCHANGE_GBP']].cumsum()\n",
    "df['EXCHANGE_DAY_SUM']=df.groupby(['USER_ID','CREATED_DATE_DAY'], as_index=False)[['USER_ID','EXCHANGE_GBP']].cumsum()\n",
    "\n",
    "df['TRANSFER_NO']=df.groupby(['USER_ID'], as_index=False)[['USER_ID','TRANSFER_ONE']].cumsum()\n",
    "df['TRANSFER_DAY_NO']=df.groupby(['USER_ID','CREATED_DATE_DAY'], as_index=False)[['USER_ID','TRANSFER_ONE']].cumsum()\n",
    "df['TRANSFER_SUM']=df.groupby(['USER_ID'], as_index=False)[['USER_ID','TRANSFER_GBP']].cumsum()\n",
    "df['TRANSFER_DAY_SUM']=df.groupby(['USER_ID','CREATED_DATE_DAY'], as_index=False)[['USER_ID','TRANSFER_GBP']].cumsum()\n",
    "\n",
    "df['ATM_NO']=df.groupby(['USER_ID'], as_index=False)[['USER_ID','ATM_ONE']].cumsum()\n",
    "df['ATM_DAY_NO']=df.groupby(['USER_ID','CREATED_DATE_DAY'], as_index=False)[['USER_ID','ATM_ONE']].cumsum()\n",
    "df['ATM_SUM']=df.groupby(['USER_ID'], as_index=False)[['USER_ID','ATM_GBP']].cumsum()\n",
    "df['ATM_DAY_SUM']=df.groupby(['USER_ID','CREATED_DATE_DAY'], as_index=False)[['USER_ID','ATM_GBP']].cumsum()\n",
    "\n",
    "df['COMPLETED_NO']=df.groupby(['USER_ID'], as_index=False)[['USER_ID','COMPLETED_ONE']].cumsum()\n",
    "df['COMPLETED_DAY_NO']=df.groupby(['USER_ID','CREATED_DATE_DAY'], as_index=False)[['USER_ID','COMPLETED_ONE']].cumsum()\n",
    "df['COMPLETED_SUM']=df.groupby(['USER_ID'], as_index=False)[['USER_ID','COMPLETED_GBP']].cumsum()\n",
    "df['COMPLETED_DAY_SUM']=df.groupby(['USER_ID','CREATED_DATE_DAY'], as_index=False)[['USER_ID','COMPLETED_GBP']].cumsum()\n",
    "\n",
    "df['REVERTED_NO']=df.groupby(['USER_ID'], as_index=False)[['USER_ID','REVERTED_ONE']].cumsum()\n",
    "df['REVERTED_DAY_NO']=df.groupby(['USER_ID','CREATED_DATE_DAY'], as_index=False)[['USER_ID','REVERTED_ONE']].cumsum()\n",
    "df['REVERTED_SUM']=df.groupby(['USER_ID'], as_index=False)[['USER_ID','REVERTED_GBP']].cumsum()\n",
    "df['REVERTED_DAY_SUM']=df.groupby(['USER_ID','CREATED_DATE_DAY'], as_index=False)[['USER_ID','REVERTED_GBP']].cumsum()\n",
    "\n",
    "df['FAILED_NO']=df.groupby(['USER_ID'], as_index=False)[['USER_ID','FAILED_ONE']].cumsum()\n",
    "df['FAILED_DAY_NO']=df.groupby(['USER_ID','CREATED_DATE_DAY'], as_index=False)[['USER_ID','FAILED_ONE']].cumsum()\n",
    "df['FAILED_SUM']=df.groupby(['USER_ID'], as_index=False)[['USER_ID','FAILED_GBP']].cumsum()\n",
    "df['FAILED_DAY_SUM']=df.groupby(['USER_ID','CREATED_DATE_DAY'], as_index=False)[['USER_ID','FAILED_GBP']].cumsum()\n",
    "\n",
    "df['DECLINED_NO']=df.groupby(['USER_ID'], as_index=False)[['USER_ID','DECLINED_ONE']].cumsum()\n",
    "df['DECLINED_DAY_NO']=df.groupby(['USER_ID','CREATED_DATE_DAY'], as_index=False)[['USER_ID','DECLINED_ONE']].cumsum()\n",
    "df['DECLINED_SUM']=df.groupby(['USER_ID'], as_index=False)[['USER_ID','DECLINED_GBP']].cumsum()\n",
    "df['DECLINED_DAY_SUM']=df.groupby(['USER_ID','CREATED_DATE_DAY'], as_index=False)[['USER_ID','DECLINED_GBP']].cumsum()\n",
    "\n",
    "df['MONEY_IN_NO']=df.groupby(['USER_ID'], as_index=False)[['USER_ID','MONEY_IN_ONE']].cumsum()\n",
    "df['MONEY_IN_DAY_NO']=df.groupby(['USER_ID','CREATED_DATE_DAY'], as_index=False)[['USER_ID','MONEY_IN_ONE']].cumsum()\n",
    "df['MONEY_IN_SUM']=df.groupby(['USER_ID'], as_index=False)[['USER_ID','MONEY_IN_GBP']].cumsum()\n",
    "df['MONEY_IN_DAY_SUM']=df.groupby(['USER_ID','CREATED_DATE_DAY'], as_index=False)[['USER_ID','MONEY_IN_GBP']].cumsum()\n",
    "\n",
    "df['MONEY_OUT_NO']=df.groupby(['USER_ID'], as_index=False)[['USER_ID','MONEY_OUT_ONE']].cumsum()\n",
    "df['MONEY_OUT_DAY_NO']=df.groupby(['USER_ID','CREATED_DATE_DAY'], as_index=False)[['USER_ID','MONEY_OUT_ONE']].cumsum()\n",
    "df['MONEY_OUT_SUM']=df.groupby(['USER_ID'], as_index=False)[['USER_ID','MONEY_OUT_GBP']].cumsum()\n",
    "df['MONEY_OUT_DAY_SUM']=df.groupby(['USER_ID','CREATED_DATE_DAY'], as_index=False)[['USER_ID','MONEY_OUT_GBP']].cumsum()\n",
    "\n",
    "df['TOPUP_NS_NO']=df.groupby(['USER_ID'], as_index=False)[['USER_ID','TOPUP_NS_ONE']].cumsum()\n",
    "df['TOPUP_NS_DAY_NO']=df.groupby(['USER_ID','CREATED_DATE_DAY'], as_index=False)[['USER_ID','TOPUP_NS_ONE']].cumsum()\n",
    "df['TOPUP_NS_SUM']=df.groupby(['USER_ID'], as_index=False)[['USER_ID','TOPUP_NS_GBP']].cumsum()\n",
    "df['TOPUP_NS_DAY_SUM']=df.groupby(['USER_ID','CREATED_DATE_DAY'], as_index=False)[['USER_ID','TOPUP_NS_GBP']].cumsum()\n",
    "\n",
    "df['TOPUP_S_NO']=df.groupby(['USER_ID'], as_index=False)[['USER_ID','TOPUP_S_ONE']].cumsum()\n",
    "df['TOPUP_S_DAY_NO']=df.groupby(['USER_ID','CREATED_DATE_DAY'], as_index=False)[['USER_ID','TOPUP_S_ONE']].cumsum()\n",
    "df['TOPUP_S_SUM']=df.groupby(['USER_ID'], as_index=False)[['USER_ID','TOPUP_S_GBP']].cumsum()\n",
    "df['TOPUP_S_DAY_SUM']=df.groupby(['USER_ID','CREATED_DATE_DAY'], as_index=False)[['USER_ID','TOPUP_S_GBP']].cumsum()\n"
   ]
  },
  {
   "cell_type": "code",
   "execution_count": 32,
   "metadata": {
    "ExecuteTime": {
     "end_time": "2021-09-05T18:35:23.191394Z",
     "start_time": "2021-09-05T18:33:45.426399Z"
    }
   },
   "outputs": [],
   "source": [
    "df['BALANCE']=df['MONEY_IN_SUM']-df['MONEY_OUT_SUM']\n",
    "df['CURRENCIES']=df.groupby('USER_ID')['CURRENCY'].apply(lambda x: (~pd.Series(x).duplicated()).cumsum())"
   ]
  },
  {
   "cell_type": "code",
   "execution_count": 33,
   "metadata": {
    "ExecuteTime": {
     "end_time": "2021-09-05T18:35:23.513328Z",
     "start_time": "2021-09-05T18:35:23.195103Z"
    }
   },
   "outputs": [],
   "source": [
    "df['COUNTRY_numeric']=df['COUNTRY'].apply(lambda x: x in ['FR', 'GB', 'GP', 'IT', 'NL', 'RE']).astype(int)"
   ]
  },
  {
   "cell_type": "markdown",
   "metadata": {},
   "source": [
    "## Deleting the aux columns "
   ]
  },
  {
   "cell_type": "code",
   "execution_count": 34,
   "metadata": {
    "ExecuteTime": {
     "end_time": "2021-09-05T18:35:25.743942Z",
     "start_time": "2021-09-05T18:35:23.516464Z"
    }
   },
   "outputs": [],
   "source": [
    "df.columns[0:100]\n",
    "\n",
    "aux_cols=[\n",
    "'TRANSACTION_ONE','TRANSACTION_GBP',\n",
    "       'TOPUP_GBP', 'CP_GBP', 'FEE_GBP', 'EXCHANGE_GBP', 'TRANSFER_GBP',\n",
    "       'ATM_GBP', 'COMPLETED_GBP', 'REVERTED_GBP', 'FAILED_GBP',\n",
    "       'DECLINED_GBP', 'MONEY_IN_GBP', 'MONEY_OUT_GBP', 'TOPUP_NS_GBP',\n",
    "       'TOPUP_S_GBP'\n",
    "]\n",
    "\n",
    "pred_cols=[\n",
    "    'AGE',\n",
    "    'COUNTRY_numeric',\n",
    "    'CURENECIES',\n",
    "    'BALANCE',\n",
    "    \n",
    "    \n",
    "       'TOPUP_ONE', 'CP_ONE',\n",
    "       'FEE_ONE', 'EXCHANGE_ONE', 'TRANSFER_ONE', 'ATM_ONE', 'COMPLETED_ONE',\n",
    "       'REVERTED_ONE', 'FAILED_ONE', 'DECLINED_ONE', 'MONEY_IN_ONE',\n",
    "       'MONEY_OUT_ONE', 'TOPUP_NS_ONE', 'TOPUP_S_ONE', \n",
    "    \n",
    "       'TRANSACTION_NO',\n",
    "       'TRANSACTION_DAY_NO', 'TRANSACTION_SUM', 'TRANSACTION_DAY_SUM',\n",
    "       'TOPUP_NO', 'TOPUP_DAY_NO', 'TOPUP_SUM', 'TOPUP_DAY_SUM', 'CP_NO',\n",
    "       'CP_DAY_NO', 'CP_SUM', 'CP_DAY_SUM', 'FEE_NO', 'FEE_DAY_NO', 'FEE_SUM',\n",
    "       'FEE_DAY_SUM', 'EXCHANGE_NO', 'EXCHANGE_DAY_NO', 'EXCHANGE_SUM',\n",
    "       'EXCHANGE_DAY_SUM', 'TRANSFER_NO', 'TRANSFER_DAY_NO', 'TRANSFER_SUM',\n",
    "       'TRANSFER_DAY_SUM', 'ATM_NO', 'ATM_DAY_NO', 'ATM_SUM', 'ATM_DAY_SUM',\n",
    "       'COMPLETED_NO', 'COMPLETED_DAY_NO', 'COMPLETED_SUM',\n",
    "       'COMPLETED_DAY_SUM', 'REVERTED_NO', 'REVERTED_DAY_NO', 'REVERTED_SUM',\n",
    "       'REVERTED_DAY_SUM', 'FAILED_NO', 'FAILED_DAY_NO', 'FAILED_SUM',\n",
    "       'FAILED_DAY_SUM', 'DECLINED_NO', 'DECLINED_DAY_NO', 'DECLINED_SUM',\n",
    "       'DECLINED_DAY_SUM', 'MONEY_IN_NO', 'MONEY_IN_DAY_NO', 'MONEY_IN_SUM',\n",
    "       'MONEY_IN_DAY_SUM', 'MONEY_OUT_NO', 'MONEY_OUT_DAY_NO', 'MONEY_OUT_SUM',\n",
    "       'MONEY_OUT_DAY_SUM', 'TOPUP_NS_NO', 'TOPUP_NS_DAY_NO', 'TOPUP_NS_SUM',\n",
    "       'TOPUP_NS_DAY_SUM'\n",
    "]\n",
    "\n",
    "for pred in aux_cols:\n",
    "    del df[pred]"
   ]
  },
  {
   "cell_type": "markdown",
   "metadata": {
    "ExecuteTime": {
     "end_time": "2021-09-05T11:00:05.747929Z",
     "start_time": "2021-09-05T11:00:05.733967Z"
    }
   },
   "source": [
    "## Exporting final dataset"
   ]
  },
  {
   "cell_type": "code",
   "execution_count": 35,
   "metadata": {
    "ExecuteTime": {
     "end_time": "2021-09-05T18:35:25.809189Z",
     "start_time": "2021-09-05T18:35:25.746021Z"
    }
   },
   "outputs": [
    {
     "data": {
      "text/html": [
       "<div>\n",
       "<style scoped>\n",
       "    .dataframe tbody tr th:only-of-type {\n",
       "        vertical-align: middle;\n",
       "    }\n",
       "\n",
       "    .dataframe tbody tr th {\n",
       "        vertical-align: top;\n",
       "    }\n",
       "\n",
       "    .dataframe thead th {\n",
       "        text-align: right;\n",
       "    }\n",
       "</style>\n",
       "<table border=\"1\" class=\"dataframe\">\n",
       "  <thead>\n",
       "    <tr style=\"text-align: right;\">\n",
       "      <th></th>\n",
       "      <th>USER_ID</th>\n",
       "      <th>ACCOUNT_CREATED_DATE</th>\n",
       "      <th>COUNTRY</th>\n",
       "      <th>BIRTH_DATE</th>\n",
       "      <th>TARGET</th>\n",
       "      <th>AGE</th>\n",
       "      <th>AGE_rounded</th>\n",
       "      <th>ID</th>\n",
       "      <th>CREATED_DATE</th>\n",
       "      <th>TYPE</th>\n",
       "      <th>...</th>\n",
       "      <th>TOPUP_NS_DAY_NO</th>\n",
       "      <th>TOPUP_NS_SUM</th>\n",
       "      <th>TOPUP_NS_DAY_SUM</th>\n",
       "      <th>TOPUP_S_NO</th>\n",
       "      <th>TOPUP_S_DAY_NO</th>\n",
       "      <th>TOPUP_S_SUM</th>\n",
       "      <th>TOPUP_S_DAY_SUM</th>\n",
       "      <th>BALANCE</th>\n",
       "      <th>CURRENCIES</th>\n",
       "      <th>COUNTRY_numeric</th>\n",
       "    </tr>\n",
       "  </thead>\n",
       "  <tbody>\n",
       "    <tr>\n",
       "      <th>0</th>\n",
       "      <td>00001f33-1d47-47a3-8955-e719172e788b</td>\n",
       "      <td>2019-04-11 20:49:42.623</td>\n",
       "      <td>IE</td>\n",
       "      <td>1994-08-17</td>\n",
       "      <td>0.0</td>\n",
       "      <td>25</td>\n",
       "      <td>20</td>\n",
       "      <td>9499c9c9-c9a9-410f-820d-c6e92fed27fb</td>\n",
       "      <td>2019-04-11 20:53:54.7</td>\n",
       "      <td>TOPUP</td>\n",
       "      <td>...</td>\n",
       "      <td>0</td>\n",
       "      <td>0.0</td>\n",
       "      <td>0.0</td>\n",
       "      <td>1</td>\n",
       "      <td>1</td>\n",
       "      <td>0.01</td>\n",
       "      <td>0.01</td>\n",
       "      <td>0.00</td>\n",
       "      <td>1</td>\n",
       "      <td>0</td>\n",
       "    </tr>\n",
       "    <tr>\n",
       "      <th>1</th>\n",
       "      <td>00001f33-1d47-47a3-8955-e719172e788b</td>\n",
       "      <td>2019-04-11 20:49:42.623</td>\n",
       "      <td>IE</td>\n",
       "      <td>1994-08-17</td>\n",
       "      <td>0.0</td>\n",
       "      <td>25</td>\n",
       "      <td>20</td>\n",
       "      <td>b310db00-490f-4185-b247-c59f5694dd67</td>\n",
       "      <td>2019-04-11 20:54:02.156</td>\n",
       "      <td>TOPUP</td>\n",
       "      <td>...</td>\n",
       "      <td>0</td>\n",
       "      <td>0.0</td>\n",
       "      <td>0.0</td>\n",
       "      <td>2</td>\n",
       "      <td>2</td>\n",
       "      <td>8.93</td>\n",
       "      <td>8.93</td>\n",
       "      <td>8.92</td>\n",
       "      <td>1</td>\n",
       "      <td>0</td>\n",
       "    </tr>\n",
       "    <tr>\n",
       "      <th>2</th>\n",
       "      <td>00001f33-1d47-47a3-8955-e719172e788b</td>\n",
       "      <td>2019-04-11 20:49:42.623</td>\n",
       "      <td>IE</td>\n",
       "      <td>1994-08-17</td>\n",
       "      <td>0.0</td>\n",
       "      <td>25</td>\n",
       "      <td>20</td>\n",
       "      <td>e6021128-f4c1-4164-b3de-697e66ad613c</td>\n",
       "      <td>2019-04-11 20:55:20.996</td>\n",
       "      <td>FEE</td>\n",
       "      <td>...</td>\n",
       "      <td>0</td>\n",
       "      <td>0.0</td>\n",
       "      <td>0.0</td>\n",
       "      <td>2</td>\n",
       "      <td>2</td>\n",
       "      <td>8.93</td>\n",
       "      <td>8.93</td>\n",
       "      <td>3.58</td>\n",
       "      <td>1</td>\n",
       "      <td>0</td>\n",
       "    </tr>\n",
       "    <tr>\n",
       "      <th>3</th>\n",
       "      <td>00001f33-1d47-47a3-8955-e719172e788b</td>\n",
       "      <td>2019-04-11 20:49:42.623</td>\n",
       "      <td>IE</td>\n",
       "      <td>1994-08-17</td>\n",
       "      <td>0.0</td>\n",
       "      <td>25</td>\n",
       "      <td>20</td>\n",
       "      <td>a9aa681d-451e-44c5-8df0-687661ac583d</td>\n",
       "      <td>2019-04-19 21:05:53.192</td>\n",
       "      <td>TOPUP</td>\n",
       "      <td>...</td>\n",
       "      <td>0</td>\n",
       "      <td>0.0</td>\n",
       "      <td>0.0</td>\n",
       "      <td>3</td>\n",
       "      <td>1</td>\n",
       "      <td>124.77</td>\n",
       "      <td>115.84</td>\n",
       "      <td>119.42</td>\n",
       "      <td>1</td>\n",
       "      <td>0</td>\n",
       "    </tr>\n",
       "    <tr>\n",
       "      <th>4</th>\n",
       "      <td>00001f33-1d47-47a3-8955-e719172e788b</td>\n",
       "      <td>2019-04-11 20:49:42.623</td>\n",
       "      <td>IE</td>\n",
       "      <td>1994-08-17</td>\n",
       "      <td>0.0</td>\n",
       "      <td>25</td>\n",
       "      <td>20</td>\n",
       "      <td>1be7d138-fbaf-4216-8dc8-5056ec5f972c</td>\n",
       "      <td>2019-04-21 10:14:53.814</td>\n",
       "      <td>CARD_PAYMENT</td>\n",
       "      <td>...</td>\n",
       "      <td>0</td>\n",
       "      <td>0.0</td>\n",
       "      <td>0.0</td>\n",
       "      <td>3</td>\n",
       "      <td>0</td>\n",
       "      <td>124.77</td>\n",
       "      <td>0.00</td>\n",
       "      <td>74.98</td>\n",
       "      <td>1</td>\n",
       "      <td>0</td>\n",
       "    </tr>\n",
       "  </tbody>\n",
       "</table>\n",
       "<p>5 rows × 91 columns</p>\n",
       "</div>"
      ],
      "text/plain": [
       "                                USER_ID     ACCOUNT_CREATED_DATE COUNTRY  \\\n",
       "0  00001f33-1d47-47a3-8955-e719172e788b  2019-04-11 20:49:42.623      IE   \n",
       "1  00001f33-1d47-47a3-8955-e719172e788b  2019-04-11 20:49:42.623      IE   \n",
       "2  00001f33-1d47-47a3-8955-e719172e788b  2019-04-11 20:49:42.623      IE   \n",
       "3  00001f33-1d47-47a3-8955-e719172e788b  2019-04-11 20:49:42.623      IE   \n",
       "4  00001f33-1d47-47a3-8955-e719172e788b  2019-04-11 20:49:42.623      IE   \n",
       "\n",
       "   BIRTH_DATE  TARGET  AGE  AGE_rounded                                    ID  \\\n",
       "0  1994-08-17     0.0   25           20  9499c9c9-c9a9-410f-820d-c6e92fed27fb   \n",
       "1  1994-08-17     0.0   25           20  b310db00-490f-4185-b247-c59f5694dd67   \n",
       "2  1994-08-17     0.0   25           20  e6021128-f4c1-4164-b3de-697e66ad613c   \n",
       "3  1994-08-17     0.0   25           20  a9aa681d-451e-44c5-8df0-687661ac583d   \n",
       "4  1994-08-17     0.0   25           20  1be7d138-fbaf-4216-8dc8-5056ec5f972c   \n",
       "\n",
       "              CREATED_DATE          TYPE  ... TOPUP_NS_DAY_NO  TOPUP_NS_SUM  \\\n",
       "0    2019-04-11 20:53:54.7         TOPUP  ...               0           0.0   \n",
       "1  2019-04-11 20:54:02.156         TOPUP  ...               0           0.0   \n",
       "2  2019-04-11 20:55:20.996           FEE  ...               0           0.0   \n",
       "3  2019-04-19 21:05:53.192         TOPUP  ...               0           0.0   \n",
       "4  2019-04-21 10:14:53.814  CARD_PAYMENT  ...               0           0.0   \n",
       "\n",
       "  TOPUP_NS_DAY_SUM  TOPUP_S_NO  TOPUP_S_DAY_NO  TOPUP_S_SUM  TOPUP_S_DAY_SUM  \\\n",
       "0              0.0           1               1         0.01             0.01   \n",
       "1              0.0           2               2         8.93             8.93   \n",
       "2              0.0           2               2         8.93             8.93   \n",
       "3              0.0           3               1       124.77           115.84   \n",
       "4              0.0           3               0       124.77             0.00   \n",
       "\n",
       "   BALANCE  CURRENCIES  COUNTRY_numeric  \n",
       "0     0.00           1                0  \n",
       "1     8.92           1                0  \n",
       "2     3.58           1                0  \n",
       "3   119.42           1                0  \n",
       "4    74.98           1                0  \n",
       "\n",
       "[5 rows x 91 columns]"
      ]
     },
     "execution_count": 35,
     "metadata": {},
     "output_type": "execute_result"
    }
   ],
   "source": [
    "df.head()"
   ]
  },
  {
   "cell_type": "code",
   "execution_count": 36,
   "metadata": {
    "ExecuteTime": {
     "end_time": "2021-09-05T18:36:58.150235Z",
     "start_time": "2021-09-05T18:35:25.813198Z"
    }
   },
   "outputs": [],
   "source": [
    "df.to_csv(r'c:\\Users\\hp\\Documents\\Data_science\\Repos\\Revolut_assignment\\Solution_for_export\\data\\processed_dataset_for_modelling.csv')"
   ]
  }
 ],
 "metadata": {
  "kernelspec": {
   "display_name": "Python 3",
   "language": "python",
   "name": "python3"
  },
  "language_info": {
   "codemirror_mode": {
    "name": "ipython",
    "version": 3
   },
   "file_extension": ".py",
   "mimetype": "text/x-python",
   "name": "python",
   "nbconvert_exporter": "python",
   "pygments_lexer": "ipython3",
   "version": "3.7.3"
  },
  "toc": {
   "base_numbering": 1,
   "nav_menu": {},
   "number_sections": true,
   "sideBar": true,
   "skip_h1_title": false,
   "title_cell": "Table of Contents",
   "title_sidebar": "Contents",
   "toc_cell": false,
   "toc_position": {},
   "toc_section_display": true,
   "toc_window_display": true
  },
  "varInspector": {
   "cols": {
    "lenName": 16,
    "lenType": 16,
    "lenVar": 40
   },
   "kernels_config": {
    "python": {
     "delete_cmd_postfix": "",
     "delete_cmd_prefix": "del ",
     "library": "var_list.py",
     "varRefreshCmd": "print(var_dic_list())"
    },
    "r": {
     "delete_cmd_postfix": ") ",
     "delete_cmd_prefix": "rm(",
     "library": "var_list.r",
     "varRefreshCmd": "cat(var_dic_list()) "
    }
   },
   "types_to_exclude": [
    "module",
    "function",
    "builtin_function_or_method",
    "instance",
    "_Feature"
   ],
   "window_display": false
  }
 },
 "nbformat": 4,
 "nbformat_minor": 2
}
